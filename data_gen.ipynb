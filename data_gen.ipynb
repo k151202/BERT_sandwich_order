{
 "cells": [
  {
   "cell_type": "code",
   "execution_count": 23,
   "metadata": {},
   "outputs": [
    {
     "name": "stdout",
     "output_type": "stream",
     "text": [
      "<샌드위치>\n",
      "페퍼 치킨 슈니첼, 페퍼로니 피자 썹, 쉬림프, 로스트 치킨, 에그마요, K-바비큐, 로티세리 바비큐 치킨, 풀드 포크 바비큐, 이탈리안 비엠티, 이탈리안 BLT, BMT, 비엘티, 미트볼, 햄, 참치, 써브웨이 클럽, 터키, 베지, 스테이크 & 치즈, 스테이크 앤 치즈, 터키 베이컨 아보카도, 스파이시 이탈리안, 치킨 데리야끼\n",
      "\n",
      "<길이>\n",
      "15센치, 15센치미터, 15센티, 15센티미터, 6인치, 6inch, 15cm, 30cm, 30센치, 30센티, 30센치미터, 30센티미터, 풋롱\n",
      "\n",
      "<치즈>\n",
      "아메리칸, 슈레드, 모차렐라, 모짜렐라, 아메리칸 치즈, 슈레드 치츠, 모차렐라 치츠\n",
      "\n",
      "<빵>\n",
      "화이트, 하티, 파마산오레가노, 위트, 허니오트, 플랫, 파마산\n",
      "\n",
      "<채소>\n",
      "양상추, 토마토, 오이, 피망, 양파, 피클, 올리브, 할라피뇨\n",
      "\n",
      "<소스>\n",
      "랜치, 마요네즈, 마요, 스위트 어니언, 허니 머스타드, 스위트 칠리, 핫 칠리, 사우스웨스트 치폴레, 머스타드, 홀스래디쉬, 올리브 오일, 레드와인식초, 소금, 후추, 스모크 바비큐, 치폴레, 바비큐\n",
      "\n"
     ]
    }
   ],
   "source": [
    "import pandas as pd\n",
    "\n",
    "keys = ['sandwich','length','cheese','bread','vegetable','sauce']\n",
    "kor_keys = ['샌드위치','길이','치즈','빵','채소','소스']\n",
    "\n",
    "for key, kor_key in zip(keys,kor_keys):\n",
    "    exec(\"%s = tuple(pd.read_csv('%s.csv'))\"%(key,kor_key))\n",
    "    print('<'+kor_key+'>')\n",
    "    exec(\"print(*%s,sep=', ')\"%(key))\n",
    "    print()"
   ]
  },
  {
   "cell_type": "code",
   "execution_count": 24,
   "metadata": {},
   "outputs": [],
   "source": [
    "menu = {}\n",
    "for key in keys:\n",
    "    exec(\"menu['%s'] = %s\"%(key,key))"
   ]
  },
  {
   "cell_type": "code",
   "execution_count": 25,
   "metadata": {},
   "outputs": [],
   "source": [
    "sample_text = '15센치 화이트 빵으로 비엘티에 아메리칸 치즈 올려서\\\n",
    " 피망하고 파프리카 빼고 랜치랑 스위트 칠리 뿌려서 주세요..'"
   ]
  },
  {
   "cell_type": "code",
   "execution_count": 26,
   "metadata": {},
   "outputs": [],
   "source": [
    "sample_data = '/length;15센치/ /bread;화이트/ 빵으로 /sandwich;비엘티/에\\\n",
    " /cheese;아메리칸 치즈/ 올려서 /vegetable;피망/하고 /vegetable;파프리카/ 빼고\\\n",
    " /sauce;랜치/랑 /sauce;스위트 칠리/ 뿌려서 주세요.'"
   ]
  },
  {
   "cell_type": "code",
   "execution_count": 27,
   "metadata": {},
   "outputs": [],
   "source": [
    "def has_coda(word):\n",
    "    # 받침으로 끝나면 false, 아니면 true 리턴\n",
    "    if is_hangul(word):\n",
    "        return (ord(word[-1]) - 44032) % 28 == 0\n",
    "    return True\n",
    "\n",
    "def is_hangul(word):\n",
    "    code = ord(word[-1])\n",
    "    if 44032 <= code <= 55203:\n",
    "        return True\n",
    "    return False"
   ]
  },
  {
   "cell_type": "code",
   "execution_count": 28,
   "metadata": {},
   "outputs": [
    {
     "data": {
      "text/plain": [
       "{'sandwich': ['샌드위치'],\n",
       " 'length': ['길이', '크기', '사이즈'],\n",
       " 'cheese': ['치즈'],\n",
       " 'bread': ['빵'],\n",
       " 'vegetable': ['채소', '야채'],\n",
       " 'sauce': ['소스']}"
      ]
     },
     "execution_count": 28,
     "metadata": {},
     "output_type": "execute_result"
    }
   ],
   "source": [
    "cat = {key:[val] for key,val in zip(keys, kor_keys)}\n",
    "cat['length']+=['크기','사이즈']\n",
    "cat['vegetable'].append('야채')\n",
    "cat"
   ]
  },
  {
   "cell_type": "code",
   "execution_count": 30,
   "metadata": {},
   "outputs": [
    {
     "name": "stdout",
     "output_type": "stream",
     "text": [
      "/sandwich;페퍼 치킨 슈니첼/으로 해주세요.\n",
      "샌드위치는 /sandwich;페퍼 치킨 슈니첼/으로 해주세요.\n",
      "/sandwich;페퍼 치킨 슈니첼/으로 할게요\n",
      "샌드위치는 /sandwich;페퍼 치킨 슈니첼/으로 할게요\n",
      "/sandwich;페퍼 치킨 슈니첼/으로 주세요\n",
      "샌드위치는 /sandwich;페퍼 치킨 슈니첼/으로 주세요\n",
      "/sandwich;페퍼 치킨 슈니첼/이요\n",
      "/sandwich;페퍼로니 피자 썹/으로 해주세요.\n",
      "샌드위치는 /sandwich;페퍼로니 피자 썹/으로 해주세요.\n",
      "/sandwich;페퍼로니 피자 썹/으로 할게요\n"
     ]
    }
   ],
   "source": [
    "data_with_one = []\n",
    "pos_predicates = ['으로 해주세요.','으로 할게요','으로 주세요']\n",
    "neg_predicate = ' 빼주세요.'\n",
    "predicate ='이요'\n",
    "\n",
    "for key,li in menu.items():\n",
    "    for val in li:\n",
    "        if key == 'vegetable':\n",
    "            # \"{채소} 빼주세요.\"\n",
    "            data_with_one.append('/%s;%s/'%(key,val)+neg_predicate)\n",
    "            # \"{veg}는 {채소} 빼주세요.\"\n",
    "            for veg in cat[key]:\n",
    "                data_with_one.append(veg+'는'+'/%s;%s/'%(key,val)+neg_predicate)\n",
    "            # \"{채소}은(는) 빼주세요.\"\n",
    "            if has_coda(val):\n",
    "                data_with_one.append('/%s;%s/'%(key,val)+'는'+neg_predicate)\n",
    "            else:\n",
    "                data_with_one.append('/%s;%s/'%(key,val)+'은'+neg_predicate)\n",
    "        else:\n",
    "            for pos_predicate in pos_predicates:\n",
    "                if has_coda(val):\n",
    "                    pos_predicate = pos_predicate[1:]\n",
    "                # \"{무엇}(으)로 해주세요/할게요/주세요.\"\n",
    "                data_with_one.append('/%s;%s/'%(key,val)+pos_predicate)\n",
    "                # \"{종류}은(는) {무엇}(으)로 해주세요/할게요/주세요.\"\n",
    "                for x in cat[key]:\n",
    "                    if has_coda(x):\n",
    "                        data_with_one.append(x+'는 '+'/%s;%s/'%(key,val)+pos_predicate)\n",
    "                    else:\n",
    "                        data_with_one.append(x+'은 '+'/%s;%s/'%(key,val)+pos_predicate)\n",
    "        temp = predicate\n",
    "        if has_coda(val):\n",
    "            temp = predicate[1:]\n",
    "        # \"{무엇}(이)요\"\n",
    "        data_with_one.append('/%s;%s/'%(key,val)+temp)\n",
    "        \n",
    "\n",
    "print(*data_with_one[:10], sep='\\n')"
   ]
  },
  {
   "cell_type": "code",
   "execution_count": null,
   "metadata": {},
   "outputs": [],
   "source": [
    "pre_oven_data = []\n",
    "# 파마산에 햄으로 주세요/할게요.\n",
    "# 파마산 오레가노 15센치요.\n",
    "# 파마산 15샌치에 햄으로 주세요.\n",
    "# 에그마요에 빵은 플렛으로 주세요.\n",
    "# 화이트 15cm에 이탈리안 비엠티 해주시고, 치즈는 "
   ]
  }
 ],
 "metadata": {
  "kernelspec": {
   "display_name": "Python 3",
   "language": "python",
   "name": "python3"
  },
  "language_info": {
   "codemirror_mode": {
    "name": "ipython",
    "version": 3
   },
   "file_extension": ".py",
   "mimetype": "text/x-python",
   "name": "python",
   "nbconvert_exporter": "python",
   "pygments_lexer": "ipython3",
   "version": "3.8.5"
  }
 },
 "nbformat": 4,
 "nbformat_minor": 4
}
