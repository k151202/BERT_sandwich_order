{
  "nbformat": 4,
  "nbformat_minor": 0,
  "metadata": {
    "colab": {
      "name": "서브웨이 데이터 만들기.ipynb",
      "provenance": [],
      "collapsed_sections": [],
      "authorship_tag": "ABX9TyMpW5PdTYBsgCwl5a96g8D4",
      "include_colab_link": true
    },
    "kernelspec": {
      "name": "python3",
      "display_name": "Python 3"
    },
    "language_info": {
      "name": "python"
    }
  },
  "cells": [
    {
      "cell_type": "markdown",
      "metadata": {
        "id": "view-in-github",
        "colab_type": "text"
      },
      "source": [
        "<a href=\"https://colab.research.google.com/github/k151202/BERT_sandwich_order/blob/main/%EC%84%9C%EB%B8%8C%EC%9B%A8%EC%9D%B4_%EB%8D%B0%EC%9D%B4%ED%84%B0_%EB%A7%8C%EB%93%A4%EA%B8%B0.ipynb\" target=\"_parent\"><img src=\"https://colab.research.google.com/assets/colab-badge.svg\" alt=\"Open In Colab\"/></a>"
      ]
    },
    {
      "cell_type": "code",
      "metadata": {
        "id": "4Lq1ZZSUB7KU"
      },
      "source": [
        "import pandas as pd"
      ],
      "execution_count": 2,
      "outputs": []
    },
    {
      "cell_type": "code",
      "metadata": {
        "id": "xTmlQ5SjekHc"
      },
      "source": [
        "# 20개\n",
        "sandwich = ['페퍼로니 피자썹', '이탈리안 비엠티', '에그마요', '스테이크 치즈', '써브웨이 클럽',\n",
        "              '로티세리 바비큐 치킨', '풀드 포그 바비큐', '치킨 데리야끼', '스파이시 이탈리안',\n",
        "              '쉬림프', '페퍼 치킨 슈니첼', 'K-바비큐', '터키 베이컨 아보카도', '로스트 치킨',\n",
        "              '베지', '터키', '햄', '참치', '마트볼', '비엘티']\n",
        "\n",
        "# 6개\n",
        "bread = ['화이트', '하티', '파마산 오레가노', '위트', '허니오트', '플랫']\n",
        "\n",
        "# 3개\n",
        "cheese = ['아메리칸 치즈', '슈레드 치즈', '모짜렐라 치즈']\n",
        "\n",
        "extras = ['미트 추가', '쉬림프 더블업 추가', '에그마요 추가', '오믈렛 추가', '아보카도 추가',\n",
        "          '베이컨 추가', '페퍼로니 추가', '치즈 추가']\n",
        "\n",
        "# 8개\n",
        "vegetable = ['양상추', '토마토', '오이', '피망', '피클', '올리브', '할라피뇨', '양파']\n",
        "\n",
        "# 14개\n",
        "sauce = ['랜치', '마요네즈', '스위트 어니언', '허니 머스타드', '스위트 칠리', '핫 칠리',\n",
        "         '사우스 웨스트', '머스타드', '홀스래디쉬', '올리브 오일', '레드와인 식초', '소금',\n",
        "         '후추', '스모크 바베큐']\n",
        "\n",
        "drinks = ['코카콜라', '스프라이트', '닥터페퍼', '코카콜라 제로', '생수', '아메리카노']\n",
        "\n",
        "cookies = ['더블 초코칩', '초코칩', '오트밀 레이즌', '라즈베리 치즈케잌', '화이트 초코 마카다미아',\n",
        "           '파인애플 쿠키']\n",
        "\n",
        "# 6개\n",
        "sand_length = ['15cm', '30cm', '십오센치', '삼십센치', '15센치', '30센치']"
      ],
      "execution_count": 32,
      "outputs": []
    },
    {
      "cell_type": "code",
      "metadata": {
        "id": "CypwgkSH9FEf"
      },
      "source": [
        "sandwich_slot = ['/sandwich;페퍼로니 피자썹/', '/sandwich;이탈리안 비엠티/', '/sandwich;에그마요/',\n",
        "                   '/sandwich;스테이크 치즈/', '/sandwich;써브웨이 클럽/', '/sandwich;로티세리 바비큐 치킨/',\n",
        "                   '/sandwich;풀드 포그 바비큐/', '/sandwich;치킨 데리야끼/', '/sandwich;스파이시 이탈리안/',\n",
        "                   '/sandwich;쉬림프/', '/sandwich;페퍼 치킨 슈니첼/', '/sandwich;K-바비큐/',\n",
        "                   '/sandwich;터키 베이컨 아보카도/', '/sandwich;로스트 치킨/', '/sandwich;베지/',\n",
        "                   '/sandwich;터키/', '/sandwich;햄/', '/sandwich;참치/', '/sandwich;마트볼/', '/sandwich;비엘티/']\n",
        "\n",
        "bread_slot = ['/bread;화이트/', '/bread;하티/', '/bread;파마산 오레가노/', '/bread;위트/', '/bread;허니오트/', '/bread;플랫/']\n",
        "\n",
        "cheese_slot = ['/cheese;아메리칸 치즈/', '/cheese;슈레드 치즈/', '/cheese;모짜렐라 치즈/']\n",
        "\n",
        "extras_slot = ['/extras;미트 추가/', '/extras;쉬림프 더블업 추가/', '/extras;에그마요 추가/',\n",
        "               '/extras;오믈렛 추가/', '/extras;아보카도 추가/', '/extras;베이컨 추가/',\n",
        "               '/extras;페퍼로니 추가/', '/extras;치즈 추가/']\n",
        "\n",
        "vegetable_slot = ['/vegetable;양상추/', '/vegetable;토마토/', '/vegetable;오이/', '/vegetable;피망/',\n",
        "                '/vegetable;피클/', '/vegetable;올리브/', '/vegetable;할라피뇨/', '/vegetable;양파/']\n",
        "\n",
        "sauce_slot = ['/sauce;랜치/', '/sauce;마요네즈/', '/sauce;스위트 어니언/', '/sauce;허니 머스타드/',\n",
        "               '/sauce;스위트 칠리/', '/sauce;핫 칠리/', '/sauce;사우스 웨스트/', '/sauce;머스타드/',\n",
        "               '/sauce;홀스래디쉬/', '/sauce;올리브 오일/', '/sauce;레드와인 식초/', '/sauce;소금/',\n",
        "               '/sauce;후추/', '/sauce;스모크 바베큐/']\n",
        "\n",
        "drinks_slot = ['/drinks;코카콜라/', '/drinks;스프라이트/', '/drinks;닥터페퍼/', '/drinks;코카콜라 제로/',\n",
        "                '/drinks;생수/', '/drinks;아메리카노/']\n",
        "\n",
        "cookies_slot = ['/cookies;더블 초코칩/', '/cookies;초코칩/', '/cookies;오트밀 레이즌/',\n",
        "                 '/cookies;라즈베리 치즈케잌/', '/cookies;화이트 초코 마카다미아/', '/cookies;파인애플 쿠키/']\n",
        "\n",
        "length_slot = ['/length;15cm/', '/length;30cm/', '/length;십오센치/', '/length;삼십센치/',\n",
        "               '/length;15센치/', '/length;30센치/']"
      ],
      "execution_count": 1,
      "outputs": []
    },
    {
      "cell_type": "code",
      "metadata": {
        "id": "JL1rNYE-uIWz"
      },
      "source": [
        "# 풀드 포크 바비큐에 빵은 화이트로 주시고 치즈는 슈레드 치즈, 소스는 스모크 바베큐로 주세요. \n",
        "import sys\n",
        "f = open('샌드위치_빵_치즈_소스.txt', 'w')\n",
        "\n",
        "for s in sandwich_slot:\n",
        "    for b in bread_slot:\n",
        "        for c in cheese_slot:\n",
        "            for sc in sauce_slot:\n",
        "                data = f'{s}에 빵은 {b}로 주시고 치즈는{c}, 소스는 {sc}로 주세요.\\n'\n",
        "                f.write(data)\n",
        "\n",
        "f.close()"
      ],
      "execution_count": 3,
      "outputs": []
    },
    {
      "cell_type": "code",
      "metadata": {
        "id": "URKihcD5s_6T"
      },
      "source": [
        "# 15센치 풀드 포크 바비큐에 화이트 빵에, 슈레드 치즈, 양상추 빼주시고 랜치 소스 해주세요\n",
        "import sys\n",
        "f = open('길이_샌드위치_빵_치즈_야채_소스.txt', 'w')\n",
        "\n",
        "for l in length_slot:\n",
        "    for s in sandwich_slot:\n",
        "        for b in bread_slot:\n",
        "            for c in cheese_slot:\n",
        "                for v in vegetable_slot:\n",
        "                    for sc in sauce_slot:\n",
        "                        data = f'{l} {s}에 {b}빵에, {c}, {v} 빼주시고 {sc}소스로 주세요.\\n'\n",
        "                        f.write(data)\n",
        "\n",
        "f.close()"
      ],
      "execution_count": 5,
      "outputs": []
    },
    {
      "cell_type": "code",
      "metadata": {
        "id": "NhngOa9js4vM"
      },
      "source": [
        "# 풀드 포크 바비큐 하나요. 화이트 빵에 슈레드 치즈 주세요. 랜치 소스에 양상추 빼주세요.\n",
        "import sys\n",
        "f = open('샌드위치_빵_치즈_소스_야채.txt', 'w')\n",
        "\n",
        "for s in sandwich_slot:\n",
        "    for b in bread_slot:\n",
        "        for c in cheese_slot:\n",
        "            for sc in sauce_slot:\n",
        "                for v in vegetable_slot:\n",
        "                    data = f'{s} 하나요. {b}빵에 {c} 주세요. {sc} 소스에 {v} 빼주세요.\\n'\n",
        "                    f.write(data)\n",
        "\n",
        "f.close()"
      ],
      "execution_count": 6,
      "outputs": []
    },
    {
      "cell_type": "code",
      "metadata": {
        "colab": {
          "base_uri": "https://localhost:8080/"
        },
        "id": "1ZT83NVHDJOy",
        "outputId": "5a6f98c6-b450-43cd-d641-b795700f5c90"
      },
      "source": [
        "sand1 = pd.read_table('/content/길이_샌드위치_빵_치즈_야채_소스.txt', names=['corpus'])\n",
        "sand2 = pd.read_table('/content/샌드위치_빵_치즈_소스_야채.txt', names=['corpus'])\n",
        "sand3 = pd.read_table('/content/샌드위치_빵_치즈_소스.txt', names=['corpus'])\n",
        "type(sand3)"
      ],
      "execution_count": 28,
      "outputs": [
        {
          "output_type": "execute_result",
          "data": {
            "text/plain": [
              "pandas.core.frame.DataFrame"
            ]
          },
          "metadata": {
            "tags": []
          },
          "execution_count": 28
        }
      ]
    },
    {
      "cell_type": "code",
      "metadata": {
        "colab": {
          "base_uri": "https://localhost:8080/"
        },
        "id": "l-s087LxIhti",
        "outputId": "03ff7d35-7f60-4549-f9a4-f362eeb29e40"
      },
      "source": [
        "# 데이터 개수 확인\n",
        "print(sand1.shape)\n",
        "print(sand2.shape)\n",
        "print(sand3.shape)"
      ],
      "execution_count": 29,
      "outputs": [
        {
          "output_type": "stream",
          "text": [
            "(241920, 1)\n",
            "(40320, 1)\n",
            "(5040, 1)\n"
          ],
          "name": "stdout"
        }
      ]
    },
    {
      "cell_type": "code",
      "metadata": {
        "colab": {
          "base_uri": "https://localhost:8080/"
        },
        "id": "3vWXc1QuE6ny",
        "outputId": "44176913-f6ac-425d-a68d-be9612f79135"
      },
      "source": [
        "# 각각의 데이터 파일을 병합\n",
        "data = pd.concat([sand1,sand2,sand3], ignore_index=True)\n",
        "data.shape"
      ],
      "execution_count": 30,
      "outputs": [
        {
          "output_type": "execute_result",
          "data": {
            "text/plain": [
              "(287280, 1)"
            ]
          },
          "metadata": {
            "tags": []
          },
          "execution_count": 30
        }
      ]
    },
    {
      "cell_type": "code",
      "metadata": {
        "id": "RpKSZw9nGfoe"
      },
      "source": [
        "# 병합한 데이터 파일로 저장\n",
        "data.to_csv('data.txt', index=False)"
      ],
      "execution_count": 21,
      "outputs": []
    },
    {
      "cell_type": "code",
      "metadata": {
        "colab": {
          "base_uri": "https://localhost:8080/"
        },
        "id": "me9iideGugJU",
        "outputId": "6b1f766e-e1e5-4cae-85c0-35bb3e615ee8"
      },
      "source": [
        "slot_sandwiches = []\n",
        "for a in sandwiches:\n",
        "    slot_sandwiches.append(f'/sandwich;{a}/')\n",
        "    \n",
        "slot_sandwiches"
      ],
      "execution_count": null,
      "outputs": [
        {
          "output_type": "execute_result",
          "data": {
            "text/plain": [
              "['/sandwich;페퍼로니 피자썹/',\n",
              " '/sandwich;이탈리안 비엠티/',\n",
              " '/sandwich;에그마요/',\n",
              " '/sandwich;스테이크 치즈/',\n",
              " '/sandwich;써브웨이 클럽/',\n",
              " '/sandwich;로티세리 바비큐 치킨/',\n",
              " '/sandwich;풀드 포그 바비큐/',\n",
              " '/sandwich;치킨 데리야끼/',\n",
              " '/sandwich;스파이시 이탈리안/',\n",
              " '/sandwich;쉬림프/',\n",
              " '/sandwich;페퍼 치킨 슈니첼/',\n",
              " '/sandwich;K-바비큐/',\n",
              " '/sandwich;터키 베이컨 아보카도/',\n",
              " '/sandwich;로스트 치킨/',\n",
              " '/sandwich;베지/',\n",
              " '/sandwich;터키/',\n",
              " '/sandwich;햄/',\n",
              " '/sandwich;참치/',\n",
              " '/sandwich;마트볼/',\n",
              " '/sandwich;비엘티/']"
            ]
          },
          "metadata": {
            "tags": []
          },
          "execution_count": 12
        }
      ]
    },
    {
      "cell_type": "code",
      "metadata": {
        "colab": {
          "base_uri": "https://localhost:8080/"
        },
        "id": "ceDHRm-x1fsc",
        "outputId": "b85b902f-d895-4c3d-b62b-cc6d15267b69"
      },
      "source": [
        "slot_bread = []\n",
        "for a in bread:\n",
        "    slot_bread.append(f'/bread;{a}/')\n",
        "    \n",
        "slot_bread"
      ],
      "execution_count": null,
      "outputs": [
        {
          "output_type": "execute_result",
          "data": {
            "text/plain": [
              "['/bread;화이트/',\n",
              " '/bread;하티/',\n",
              " '/bread;파마산 오레가노/',\n",
              " '/bread;위트/',\n",
              " '/bread;허니오트/',\n",
              " '/bread;플랫/']"
            ]
          },
          "metadata": {
            "tags": []
          },
          "execution_count": 28
        }
      ]
    },
    {
      "cell_type": "code",
      "metadata": {
        "colab": {
          "base_uri": "https://localhost:8080/"
        },
        "id": "K9Q6Pdh-6inO",
        "outputId": "34874042-1d45-4fe8-a9d1-e56fb237f9c3"
      },
      "source": [
        "slot_cheese = []\n",
        "for a in cheese:\n",
        "    slot_cheese.append(f'/cheese;{a}/')\n",
        "    \n",
        "slot_cheese"
      ],
      "execution_count": null,
      "outputs": [
        {
          "output_type": "execute_result",
          "data": {
            "text/plain": [
              "['/cheese;아메리칸 치즈/', '/cheese;슈레드 치즈/', '/cheese;모짜렐라 치즈/']"
            ]
          },
          "metadata": {
            "tags": []
          },
          "execution_count": 59
        }
      ]
    },
    {
      "cell_type": "code",
      "metadata": {
        "colab": {
          "base_uri": "https://localhost:8080/"
        },
        "id": "x05L0Uw9780H",
        "outputId": "4e61a571-fc79-4c84-ce8c-44fe070eeb6f"
      },
      "source": [
        "slot_extras = []\n",
        "for a in extras:\n",
        "    slot_extras.append(f'/extras;{a}/')\n",
        "    \n",
        "slot_extras"
      ],
      "execution_count": null,
      "outputs": [
        {
          "output_type": "execute_result",
          "data": {
            "text/plain": [
              "['/extras;미트 추가/',\n",
              " '/extras;쉬림프 더블업 추가/',\n",
              " '/extras;에그마요 추가/',\n",
              " '/extras;오믈렛 추가/',\n",
              " '/extras;아보카도 추가/',\n",
              " '/extras;베이컨 추가/',\n",
              " '/extras;페퍼로니 추가/',\n",
              " '/extras;치즈 추가/']"
            ]
          },
          "metadata": {
            "tags": []
          },
          "execution_count": 66
        }
      ]
    },
    {
      "cell_type": "code",
      "metadata": {
        "colab": {
          "base_uri": "https://localhost:8080/"
        },
        "id": "HGmecsBK8Fvu",
        "outputId": "f174da3c-ccd6-4d62-8c12-6af2e826ed4b"
      },
      "source": [
        "slot_vegetable = []\n",
        "for a in vegetable:\n",
        "    slot_vegetable.append(f'/vegetable;{a}/')\n",
        "    \n",
        "slot_vegetable"
      ],
      "execution_count": 33,
      "outputs": [
        {
          "output_type": "execute_result",
          "data": {
            "text/plain": [
              "['/vegetable;양상추/',\n",
              " '/vegetable;토마토/',\n",
              " '/vegetable;오이/',\n",
              " '/vegetable;피망/',\n",
              " '/vegetable;피클/',\n",
              " '/vegetable;올리브/',\n",
              " '/vegetable;할라피뇨/',\n",
              " '/vegetable;양파/']"
            ]
          },
          "metadata": {
            "tags": []
          },
          "execution_count": 33
        }
      ]
    },
    {
      "cell_type": "code",
      "metadata": {
        "colab": {
          "base_uri": "https://localhost:8080/"
        },
        "id": "dMfqH10r8O0D",
        "outputId": "7c8aa5ce-e7d3-4fb0-e6c5-d58b28cec521"
      },
      "source": [
        "slot_sauce = []\n",
        "for a in sauce:\n",
        "    slot_sauce.append(f'/sauce;{a}/')\n",
        "    \n",
        "slot_sauce"
      ],
      "execution_count": null,
      "outputs": [
        {
          "output_type": "execute_result",
          "data": {
            "text/plain": [
              "['/sauce;랜치/',\n",
              " '/sauce;마요네즈/',\n",
              " '/sauce;스위트 어니언/',\n",
              " '/sauce;허니 머스타드/',\n",
              " '/sauce;스위트 칠리/',\n",
              " '/sauce;핫 칠리/',\n",
              " '/sauce;사우스 웨스트/',\n",
              " '/sauce;머스타드/',\n",
              " '/sauce;홀스래디쉬/',\n",
              " '/sauce;올리브 오일/',\n",
              " '/sauce;레드와인 식초/',\n",
              " '/sauce;소금/',\n",
              " '/sauce;후추/',\n",
              " '/sauce;스모크 바베큐/',\n",
              " '/sauce;추천 소스/']"
            ]
          },
          "metadata": {
            "tags": []
          },
          "execution_count": 68
        }
      ]
    },
    {
      "cell_type": "code",
      "metadata": {
        "colab": {
          "base_uri": "https://localhost:8080/"
        },
        "id": "5FAQG4eB8cj2",
        "outputId": "1ea202f7-7f80-42a0-afff-ac551bfa4f72"
      },
      "source": [
        "slot_drinks = []\n",
        "for a in drinks:\n",
        "    slot_drinks.append(f'/drinks;{a}/')\n",
        "    \n",
        "slot_drinks"
      ],
      "execution_count": null,
      "outputs": [
        {
          "output_type": "execute_result",
          "data": {
            "text/plain": [
              "['/drinks;코카콜라/',\n",
              " '/drinks;스프라이트/',\n",
              " '/drinks;닥터페퍼/',\n",
              " '/drinks;코카콜라 제로/',\n",
              " '/drinks;생수/',\n",
              " '/drinks;아메리카노/']"
            ]
          },
          "metadata": {
            "tags": []
          },
          "execution_count": 69
        }
      ]
    },
    {
      "cell_type": "code",
      "metadata": {
        "colab": {
          "base_uri": "https://localhost:8080/"
        },
        "id": "fFdvYtVq844q",
        "outputId": "3f198925-c36b-490e-8f24-0368ee56de5f"
      },
      "source": [
        "slot_cookies = []\n",
        "for a in cookies:\n",
        "    slot_cookies.append(f'/cookies;{a}/')\n",
        "    \n",
        "slot_cookies"
      ],
      "execution_count": null,
      "outputs": [
        {
          "output_type": "execute_result",
          "data": {
            "text/plain": [
              "['/cookies;더블 초코칩/',\n",
              " '/cookies;초코칩/',\n",
              " '/cookies;오트밀 레이즌/',\n",
              " '/cookies;라즈베리 치즈케잌/',\n",
              " '/cookies;화이트 초코 마카다미아/',\n",
              " '/cookies;파인애플 쿠키/']"
            ]
          },
          "metadata": {
            "tags": []
          },
          "execution_count": 70
        }
      ]
    }
  ]
}
