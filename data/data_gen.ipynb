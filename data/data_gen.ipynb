{
 "cells": [
  {
   "cell_type": "markdown",
   "metadata": {
    "colab_type": "text",
    "id": "view-in-github"
   },
   "source": [
    "<a href=\"https://colab.research.google.com/github/yehoon17/BERT_sandwich_order/blob/main/data_gen.ipynb\" target=\"_parent\"><img src=\"https://colab.research.google.com/assets/colab-badge.svg\" alt=\"Open In Colab\"/></a>"
   ]
  },
  {
   "cell_type": "code",
   "execution_count": 12,
   "metadata": {
    "colab": {
     "base_uri": "https://localhost:8080/"
    },
    "id": "YfYOma7GR5_v",
    "outputId": "44e1cb6c-b3cc-40e2-c08d-86d9e93ff648"
   },
   "outputs": [
    {
     "name": "stdout",
     "output_type": "stream",
     "text": [
      "<샌드위치>\n",
      "페퍼 치킨 슈니첼, 페퍼로니 피자 썹, 쉬림프, 로스트 치킨, 에그마요, K-바비큐, 로티세리 바비큐 치킨, 풀드 포크 바비큐, 이탈리안 비엠티, 이탈리안 BLT, BMT, 비엘티, 미트볼, 햄, 참치, 써브웨이 클럽, 터키, 베지, 스테이크 & 치즈, 스테이크 앤 치즈, 터키 베이컨 아보카도, 스파이시 이탈리안, 치킨 데리야끼\n",
      "\n",
      "<길이>\n",
      "15센치, 15센치미터, 15센티, 15센티미터, 6인치, 6inch, 15cm, 30cm, 30센치, 30센티, 30센치미터, 30센티미터, 풋롱\n",
      "\n",
      "<치즈>\n",
      "아메리칸, 슈레드, 모차렐라, 모짜렐라, 아메리칸 치즈, 슈레드 치츠, 모차렐라 치츠\n",
      "\n",
      "<빵>\n",
      "화이트, 하티, 파마산오레가노, 위트, 허니오트, 플랫, 파마산\n",
      "\n",
      "<채소>\n",
      "양상추, 토마토, 오이, 피망, 양파, 피클, 올리브, 할라피뇨\n",
      "\n",
      "<소스>\n",
      "랜치, 마요네즈, 스위트 어니언, 허니 머스타드, 스위트 칠리, 핫 칠리, 사우스웨스트 치폴레, 머스타드, 홀스래디쉬, 올리브 오일, 레드와인식초, 소금, 후추, 스모크 바비큐\n",
      "\n"
     ]
    }
   ],
   "source": [
    "import pandas as pd\n",
    "import random\n",
    "\n",
    "keys = ['sandwich','length','cheese','bread','vegetable','sauce']\n",
    "kor_keys = ['샌드위치','길이','치즈','빵','채소','소스']\n",
    "\n",
    "for key, kor_key in zip(keys,kor_keys):\n",
    "    exec(\"%s = tuple(pd.read_csv('%s.csv'))\"%(key,kor_key))\n",
    "    print('<'+kor_key+'>')\n",
    "    exec(\"print(*%s,sep=', ')\"%(key))\n",
    "    print()"
   ]
  },
  {
   "cell_type": "code",
   "execution_count": 14,
   "metadata": {
    "id": "f_73LLt8R5_y"
   },
   "outputs": [],
   "source": [
    "menu = {}\n",
    "for key in keys:\n",
    "    exec(\"menu['%s'] = %s\"%(key,key))"
   ]
  },
  {
   "cell_type": "code",
   "execution_count": 15,
   "metadata": {
    "id": "X7KGWpi9R5_y"
   },
   "outputs": [],
   "source": [
    "sample_text = '15센치 화이트 빵으로 비엘티에 아메리칸 치즈 올려서\\\n",
    " 피망하고 파프리카 빼고 랜치랑 스위트 칠리 뿌려서 주세요..'"
   ]
  },
  {
   "cell_type": "code",
   "execution_count": 16,
   "metadata": {
    "id": "sIO1NchHR5_z"
   },
   "outputs": [],
   "source": [
    "sample_data = '/length;15센치/ /bread;화이트/ 빵으로 /sandwich;비엘티/에\\\n",
    " /cheese;아메리칸 치즈/ 올려서 /vegetable;피망/하고 /vegetable;파프리카/ 빼고\\\n",
    " /sauce;랜치/랑 /sauce;스위트 칠리/ 뿌려서 주세요.'"
   ]
  },
  {
   "cell_type": "code",
   "execution_count": 17,
   "metadata": {
    "id": "61l75p-5R5_0"
   },
   "outputs": [],
   "source": [
    "def has_coda(word):\n",
    "    # 받침으로 끝나면 false, 아니면 true 리턴\n",
    "    if is_hangul(word):\n",
    "        return (ord(word[-1]) - 44032) % 28 == 0\n",
    "    return True\n",
    "\n",
    "def is_hangul(word):\n",
    "    code = ord(word[-1])\n",
    "    if 44032 <= code <= 55203:\n",
    "        return True\n",
    "    return False"
   ]
  },
  {
   "cell_type": "code",
   "execution_count": 18,
   "metadata": {
    "colab": {
     "base_uri": "https://localhost:8080/"
    },
    "id": "bCCnTdhdR5_1",
    "outputId": "4b00e667-c2b3-45df-a07f-563497e5a356"
   },
   "outputs": [
    {
     "data": {
      "text/plain": [
       "{'sandwich': ['샌드위치'],\n",
       " 'length': ['길이', '크기', '사이즈'],\n",
       " 'cheese': ['치즈'],\n",
       " 'bread': ['빵'],\n",
       " 'vegetable': ['채소', '야채'],\n",
       " 'sauce': ['소스']}"
      ]
     },
     "execution_count": 18,
     "metadata": {},
     "output_type": "execute_result"
    }
   ],
   "source": [
    "cat = {key:[val] for key,val in zip(keys, kor_keys)}\n",
    "cat['length']+=['크기','사이즈']\n",
    "cat['vegetable'].append('야채')\n",
    "cat"
   ]
  },
  {
   "cell_type": "code",
   "execution_count": 19,
   "metadata": {
    "colab": {
     "base_uri": "https://localhost:8080/"
    },
    "id": "BRT0xXReR5_1",
    "outputId": "bb4b8adf-909e-4325-865c-a52c9f9ed045",
    "scrolled": true
   },
   "outputs": [
    {
     "name": "stdout",
     "output_type": "stream",
     "text": [
      "720\n",
      "/sandwich;페퍼 치킨 슈니첼/으로 해주세요.\n",
      "샌드위치는 /sandwich;페퍼 치킨 슈니첼/으로 해주세요.\n",
      "/sandwich;페퍼 치킨 슈니첼/으로 할게요.\n",
      "샌드위치는 /sandwich;페퍼 치킨 슈니첼/으로 할게요.\n",
      "/sandwich;페퍼 치킨 슈니첼/으로 주세요.\n",
      "샌드위치는 /sandwich;페퍼 치킨 슈니첼/으로 주세요.\n",
      "/sandwich;페퍼 치킨 슈니첼/으로 주이소.\n",
      "샌드위치는 /sandwich;페퍼 치킨 슈니첼/으로 주이소.\n",
      "/sandwich;페퍼 치킨 슈니첼/이요\n",
      "/sandwich;페퍼로니 피자 썹/으로 해주세요.\n"
     ]
    }
   ],
   "source": [
    "data_with_one = []\n",
    "pos_predicates = ['으로 해주세요.','으로 할게요.','으로 주세요.','으로 주이소.']\n",
    "neg_predicate = ' 빼주세요.'\n",
    "predicate ='이요'\n",
    "\n",
    "for key,li in menu.items():\n",
    "    for val in li:\n",
    "        if key == 'vegetable':\n",
    "            # \"{채소} 빼주세요.\"\n",
    "            data_with_one.append('/%s;%s/'%(key,val)+neg_predicate)\n",
    "            # \"{veg}는 {채소} 빼주세요.\"\n",
    "            for veg in cat[key]:\n",
    "                data_with_one.append(veg+'는'+'/%s;%s/'%(key,val)+neg_predicate)\n",
    "            # \"{채소}은(는) 빼주세요.\"\n",
    "            if has_coda(val):\n",
    "                data_with_one.append('/%s;%s/'%(key,val)+'는'+neg_predicate)\n",
    "            else:\n",
    "                data_with_one.append('/%s;%s/'%(key,val)+'은'+neg_predicate)\n",
    "        else:\n",
    "            for pos_predicate in pos_predicates:\n",
    "                if has_coda(val):\n",
    "                    pos_predicate = pos_predicate[1:]\n",
    "                # \"{무엇}(으)로 해주세요/할게요/주세요.\"\n",
    "                data_with_one.append('/%s;%s/'%(key,val)+pos_predicate)\n",
    "                # \"{종류}은(는) {무엇}(으)로 해주세요/할게요/주세요.\"\n",
    "                for x in cat[key]:\n",
    "                    if has_coda(x):\n",
    "                        data_with_one.append(x+'는 '+'/%s;%s/'%(key,val)+pos_predicate)\n",
    "                    else:\n",
    "                        data_with_one.append(x+'은 '+'/%s;%s/'%(key,val)+pos_predicate)\n",
    "        temp = predicate\n",
    "        if has_coda(val):\n",
    "            temp = predicate[1:]\n",
    "        # \"{무엇}(이)요\"\n",
    "        data_with_one.append('/%s;%s/'%(key,val)+temp)\n",
    "        \n",
    "print(len(data_with_one))\n",
    "print(*data_with_one[:10], sep='\\n')"
   ]
  },
  {
   "cell_type": "code",
   "execution_count": 21,
   "metadata": {},
   "outputs": [],
   "source": [
    "with open('data.csv', 'a') as f:\n",
    "    for sentence in random.sample(data_with_one,200):\n",
    "        f.write(sentence+',')"
   ]
  },
  {
   "cell_type": "code",
   "execution_count": 23,
   "metadata": {
    "colab": {
     "base_uri": "https://localhost:8080/"
    },
    "id": "vmlHWeLPR5_3",
    "outputId": "90b50b20-f2fe-4e8c-d39a-d71e6afda0bc"
   },
   "outputs": [
    {
     "name": "stdout",
     "output_type": "stream",
     "text": [
      "483\n",
      "/sandwich;페퍼 치킨 슈니첼/에 /bread;화이트/로 주세요.\n",
      "/sandwich;페퍼 치킨 슈니첼/에 빵은 /bread;화이트/로 주세요.\n",
      "/bread;화이트/에 /sandwich;페퍼 치킨 슈니첼/으로 주세요.\n",
      "/sandwich;페퍼로니 피자 썹/에 /bread;화이트/로 주세요.\n",
      "/sandwich;페퍼로니 피자 썹/에 빵은 /bread;화이트/로 주세요.\n",
      "/bread;화이트/에 /sandwich;페퍼로니 피자 썹/으로 주세요.\n",
      "/sandwich;쉬림프/에 /bread;화이트/로 주세요.\n",
      "/sandwich;쉬림프/에 빵은 /bread;화이트/로 주세요.\n",
      "/bread;화이트/에 /sandwich;쉬림프/로 주세요.\n",
      "/sandwich;로스트 치킨/에 /bread;화이트/로 주세요.\n",
      "/sandwich;로스트 치킨/에 빵은 /bread;화이트/로 주세요.\n",
      "/bread;화이트/에 /sandwich;로스트 치킨/으로 주세요.\n",
      "/sandwich;에그마요/에 /bread;화이트/로 주세요.\n",
      "/sandwich;에그마요/에 빵은 /bread;화이트/로 주세요.\n",
      "/bread;화이트/에 /sandwich;에그마요/로 주세요.\n",
      "/sandwich;K-바비큐/에 /bread;화이트/로 주세요.\n",
      "/sandwich;K-바비큐/에 빵은 /bread;화이트/로 주세요.\n",
      "/bread;화이트/에 /sandwich;K-바비큐/로 주세요.\n",
      "/sandwich;로티세리 바비큐 치킨/에 /bread;화이트/로 주세요.\n",
      "/sandwich;로티세리 바비큐 치킨/에 빵은 /bread;화이트/로 주세요.\n"
     ]
    }
   ],
   "source": [
    "pre_oven_data1 = []\n",
    "## 빵과 메뉴\n",
    "# 파마산에 햄으로 주세요/할게요.\n",
    "# 에그마요에 (빵은) 플렛으로 주세요.\n",
    "pre_oven_bread_sandwich = []\n",
    "for bread in menu['bread']:\n",
    "    for sandwich in menu['sandwich']:\n",
    "        predicate = '으로 주세요.'\n",
    "        if has_coda(bread):\n",
    "            predicate = '로 주세요.'\n",
    "        order = '/sandwich;'+sandwich+'/에 '\n",
    "        pre_oven_data1.append(order+'/bread;'+bread+'/'+predicate)\n",
    "        pre_oven_data1.append(order+'빵은 /bread;'+bread+'/'+predicate)\n",
    "        \n",
    "        predicate = '으로 주세요.'\n",
    "        if has_coda(sandwich):\n",
    "            predicate = '로 주세요.'\n",
    "        order = '/bread;'+bread+'/에 '+'/sandwich;'+sandwich+'/'+predicate\n",
    "        pre_oven_data1.append(order)\n",
    "\n",
    "        pre_oven_bread_sandwich.append(order[:-5]+' 해주시고, ')\n",
    "        \n",
    "print(len(pre_oven_data1))\n",
    "print(*pre_oven_data1[:20], sep='\\n') "
   ]
  },
  {
   "cell_type": "code",
   "execution_count": 24,
   "metadata": {},
   "outputs": [],
   "source": [
    "with open('data.csv', 'a') as f:\n",
    "    for sentence in random.sample(pre_oven_data1,200):\n",
    "        f.write(sentence+',')"
   ]
  },
  {
   "cell_type": "code",
   "execution_count": 25,
   "metadata": {},
   "outputs": [
    {
     "name": "stdout",
     "output_type": "stream",
     "text": [
      "364\n",
      "빵은 /length;15센치/ /bread;화이트/로 해주세요.\n",
      "/length;15센치/ /bread;화이트/로 해주세요.\n",
      "빵은 /bread;화이트/ /length;15센치/로 해주세요.\n",
      "/bread;화이트/ /length;15센치/로 해주세요.\n",
      "빵은 /length;15센치미터/ /bread;화이트/로 해주세요.\n",
      "/length;15센치미터/ /bread;화이트/로 해주세요.\n",
      "빵은 /bread;화이트/ /length;15센치미터/로 해주세요.\n",
      "/bread;화이트/ /length;15센치미터/로 해주세요.\n",
      "빵은 /length;15센티/ /bread;화이트/로 해주세요.\n",
      "/length;15센티/ /bread;화이트/로 해주세요.\n",
      "빵은 /bread;화이트/ /length;15센티/로 해주세요.\n",
      "/bread;화이트/ /length;15센티/로 해주세요.\n",
      "빵은 /length;15센티미터/ /bread;화이트/로 해주세요.\n",
      "/length;15센티미터/ /bread;화이트/로 해주세요.\n",
      "빵은 /bread;화이트/ /length;15센티미터/로 해주세요.\n",
      "/bread;화이트/ /length;15센티미터/로 해주세요.\n",
      "빵은 /length;6인치/ /bread;화이트/로 해주세요.\n",
      "/length;6인치/ /bread;화이트/로 해주세요.\n",
      "빵은 /bread;화이트/ /length;6인치/로 해주세요.\n",
      "/bread;화이트/ /length;6인치/로 해주세요.\n"
     ]
    }
   ],
   "source": [
    "pre_oven_data2 = []\n",
    "## 빵과 길이\n",
    "# (빵은) 파마산 오레가노 15센치(요./로 (해)주세요.)\n",
    "# (빵은) 15센치 파마산 오레가노로 해주세요\n",
    "\n",
    "for bread in menu['bread']:\n",
    "    for length in menu['length']:\n",
    "        predicate = '으로 해주세요.'\n",
    "        if has_coda(bread):\n",
    "            predicate = '로 해주세요.'\n",
    "        order = '/length;'+length+'/ '+'/bread;'+bread+'/'+predicate\n",
    "        pre_oven_data2.append('빵은 '+order)\n",
    "        pre_oven_data2.append(order)\n",
    "        \n",
    "        predicate = '으로 해주세요.'\n",
    "        if has_coda(length):\n",
    "            predicate = '로 해주세요.'\n",
    "        order = '/bread;'+bread+'/ '+'/length;'+length+'/'+predicate\n",
    "        pre_oven_data2.append('빵은 '+order)\n",
    "        pre_oven_data2.append(order)\n",
    "  \n",
    "print(len(pre_oven_data2))\n",
    "print(*pre_oven_data2[:20], sep='\\n') "
   ]
  },
  {
   "cell_type": "code",
   "execution_count": 26,
   "metadata": {},
   "outputs": [],
   "source": [
    "with open('data.csv', 'a') as f:\n",
    "    for sentence in random.sample(pre_oven_data2,200):\n",
    "        f.write(sentence+',')"
   ]
  },
  {
   "cell_type": "code",
   "execution_count": 27,
   "metadata": {},
   "outputs": [
    {
     "name": "stdout",
     "output_type": "stream",
     "text": [
      "6279\n",
      "/bread;화이트/에다가 /sandwich;페퍼 치킨 슈니첼/으로 주세요.\n",
      "/bread;화이트/에다가 /sandwich;페퍼로니 피자 썹/으로 주세요.\n",
      "/bread;화이트/에다가 /sandwich;쉬림프/로 주세요.\n",
      "/bread;화이트/에다가 /sandwich;로스트 치킨/으로 주세요.\n",
      "/bread;화이트/에다가 /sandwich;에그마요/로 주세요.\n",
      "/bread;화이트/에다가 /sandwich;K-바비큐/로 주세요.\n",
      "/bread;화이트/에다가 /sandwich;로티세리 바비큐 치킨/으로 주세요.\n",
      "/bread;화이트/에다가 /sandwich;풀드 포크 바비큐/로 주세요.\n",
      "/bread;화이트/에다가 /sandwich;이탈리안 비엠티/로 주세요.\n",
      "/bread;화이트/에다가 /sandwich;이탈리안 BLT/로 주세요.\n",
      "/bread;화이트/에다가 /sandwich;BMT/로 주세요.\n",
      "/bread;화이트/에다가 /sandwich;비엘티/로 주세요.\n",
      "/bread;화이트/에다가 /sandwich;미트볼/으로 주세요.\n",
      "/bread;화이트/에다가 /sandwich;햄/으로 주세요.\n",
      "/bread;화이트/에다가 /sandwich;참치/로 주세요.\n",
      "/bread;화이트/에다가 /sandwich;써브웨이 클럽/으로 주세요.\n",
      "/bread;화이트/에다가 /sandwich;터키/로 주세요.\n",
      "/bread;화이트/에다가 /sandwich;베지/로 주세요.\n",
      "/bread;화이트/에다가 /sandwich;스테이크 & 치즈/로 주세요.\n",
      "/bread;화이트/에다가 /sandwich;스테이크 앤 치즈/로 주세요.\n"
     ]
    }
   ],
   "source": [
    "pre_oven_data3 = []         \n",
    "## 빵, 길이, 메뉴\n",
    "# 파마산 15샌치에 햄으로 주세요.\n",
    "\n",
    "for bread in menu['bread']:\n",
    "    bread = '/bread;'+bread+'/'\n",
    "    for length in menu['length']:\n",
    "        length = '/length;'+length+'/'\n",
    "        bread_infos = [bread, bread+' '+length, length+' '+bread]\n",
    "        for bread_info in bread_infos:\n",
    "            for sandwich in menu['sandwich']:\n",
    "                predicate = '으로 주세요.'\n",
    "                if has_coda(sandwich):\n",
    "                    predicate = '로 주세요.'\n",
    "                sandwich = '/sandwich;'+sandwich+'/'\n",
    "                ### {무엇}에(다가) {무엇}으로 주세요.\n",
    "                # (빵)(+길이), (메뉴)\n",
    "                pre_oven_data3.append(bread_info+'에다가 '+sandwich+predicate)\n",
    "                ###빵은 {빵}으로 해주시고, {메뉴}로 주세요\n",
    "                   \n",
    "\n",
    "print(len(pre_oven_data3))\n",
    "print(*pre_oven_data3[:20], sep='\\n') "
   ]
  },
  {
   "cell_type": "code",
   "execution_count": 28,
   "metadata": {},
   "outputs": [],
   "source": [
    "with open('data.csv', 'a') as f:\n",
    "    for sentence in random.sample(pre_oven_data3,200):\n",
    "        f.write(sentence+',')"
   ]
  },
  {
   "cell_type": "code",
   "execution_count": 29,
   "metadata": {},
   "outputs": [
    {
     "name": "stdout",
     "output_type": "stream",
     "text": [
      "1127\n",
      "/bread;화이트/에 /sandwich;페퍼 치킨 슈니첼/으로 해주시고, 치즈는 /cheese;아메리칸/으로 할게요.\n",
      "/bread;화이트/에 /sandwich;페퍼로니 피자 썹/으로 해주시고, 치즈는 /cheese;아메리칸/으로 할게요.\n",
      "/bread;화이트/에 /sandwich;쉬림프/로 해주시고, 치즈는 /cheese;아메리칸/으로 할게요.\n",
      "/bread;화이트/에 /sandwich;로스트 치킨/으로 해주시고, 치즈는 /cheese;아메리칸/으로 할게요.\n",
      "/bread;화이트/에 /sandwich;에그마요/로 해주시고, 치즈는 /cheese;아메리칸/으로 할게요.\n",
      "/bread;화이트/에 /sandwich;K-바비큐/로 해주시고, 치즈는 /cheese;아메리칸/으로 할게요.\n",
      "/bread;화이트/에 /sandwich;로티세리 바비큐 치킨/으로 해주시고, 치즈는 /cheese;아메리칸/으로 할게요.\n",
      "/bread;화이트/에 /sandwich;풀드 포크 바비큐/로 해주시고, 치즈는 /cheese;아메리칸/으로 할게요.\n",
      "/bread;화이트/에 /sandwich;이탈리안 비엠티/로 해주시고, 치즈는 /cheese;아메리칸/으로 할게요.\n",
      "/bread;화이트/에 /sandwich;이탈리안 BLT/로 해주시고, 치즈는 /cheese;아메리칸/으로 할게요.\n",
      "/bread;화이트/에 /sandwich;BMT/로 해주시고, 치즈는 /cheese;아메리칸/으로 할게요.\n",
      "/bread;화이트/에 /sandwich;비엘티/로 해주시고, 치즈는 /cheese;아메리칸/으로 할게요.\n",
      "/bread;화이트/에 /sandwich;미트볼/으로 해주시고, 치즈는 /cheese;아메리칸/으로 할게요.\n",
      "/bread;화이트/에 /sandwich;햄/으로 해주시고, 치즈는 /cheese;아메리칸/으로 할게요.\n",
      "/bread;화이트/에 /sandwich;참치/로 해주시고, 치즈는 /cheese;아메리칸/으로 할게요.\n",
      "/bread;화이트/에 /sandwich;써브웨이 클럽/으로 해주시고, 치즈는 /cheese;아메리칸/으로 할게요.\n",
      "/bread;화이트/에 /sandwich;터키/로 해주시고, 치즈는 /cheese;아메리칸/으로 할게요.\n",
      "/bread;화이트/에 /sandwich;베지/로 해주시고, 치즈는 /cheese;아메리칸/으로 할게요.\n",
      "/bread;화이트/에 /sandwich;스테이크 & 치즈/로 해주시고, 치즈는 /cheese;아메리칸/으로 할게요.\n",
      "/bread;화이트/에 /sandwich;스테이크 앤 치즈/로 해주시고, 치즈는 /cheese;아메리칸/으로 할게요.\n"
     ]
    }
   ],
   "source": [
    "pre_oven_data4 = []  \n",
    "\n",
    "## 빵, 메뉴, 치즈\n",
    "# 화이트 빵에 이탈리안 비엠티 해주시고, 치즈는 아메리칸 치즈로 할게요.\n",
    "for cheese in menu['cheese']:\n",
    "    predicate = '으로 할게요.'\n",
    "    if has_coda(cheese):\n",
    "        predicate = '로 할게요.'\n",
    "    order = '치즈는 '+'/cheese;'+cheese+'/'+predicate\n",
    "    for x in pre_oven_bread_sandwich:\n",
    "        pre_oven_data4.append(x+order)\n",
    "  \n",
    "print(len(pre_oven_data4))\n",
    "print(*pre_oven_data4[:20], sep='\\n')   "
   ]
  },
  {
   "cell_type": "code",
   "execution_count": 30,
   "metadata": {},
   "outputs": [],
   "source": [
    "with open('data.csv', 'a') as f:\n",
    "    for sentence in random.sample(pre_oven_data4,200):\n",
    "        f.write(sentence+',')"
   ]
  },
  {
   "cell_type": "code",
   "execution_count": 31,
   "metadata": {},
   "outputs": [
    {
     "name": "stdout",
     "output_type": "stream",
     "text": [
      "14651\n",
      "/length;15센치/ /bread;화이트/에 /sandwich;페퍼 치킨 슈니첼/으로 해주시고, 치즈는 /cheese;아메리칸/으로 할게요.\n",
      "/length;15센치미터/ /bread;화이트/에 /sandwich;페퍼 치킨 슈니첼/으로 해주시고, 치즈는 /cheese;아메리칸/으로 할게요.\n",
      "/length;15센티/ /bread;화이트/에 /sandwich;페퍼 치킨 슈니첼/으로 해주시고, 치즈는 /cheese;아메리칸/으로 할게요.\n",
      "/length;15센티미터/ /bread;화이트/에 /sandwich;페퍼 치킨 슈니첼/으로 해주시고, 치즈는 /cheese;아메리칸/으로 할게요.\n",
      "/length;6인치/ /bread;화이트/에 /sandwich;페퍼 치킨 슈니첼/으로 해주시고, 치즈는 /cheese;아메리칸/으로 할게요.\n",
      "/length;6inch/ /bread;화이트/에 /sandwich;페퍼 치킨 슈니첼/으로 해주시고, 치즈는 /cheese;아메리칸/으로 할게요.\n",
      "/length;15cm/ /bread;화이트/에 /sandwich;페퍼 치킨 슈니첼/으로 해주시고, 치즈는 /cheese;아메리칸/으로 할게요.\n",
      "/length;30cm/ /bread;화이트/에 /sandwich;페퍼 치킨 슈니첼/으로 해주시고, 치즈는 /cheese;아메리칸/으로 할게요.\n",
      "/length;30센치/ /bread;화이트/에 /sandwich;페퍼 치킨 슈니첼/으로 해주시고, 치즈는 /cheese;아메리칸/으로 할게요.\n",
      "/length;30센티/ /bread;화이트/에 /sandwich;페퍼 치킨 슈니첼/으로 해주시고, 치즈는 /cheese;아메리칸/으로 할게요.\n",
      "/length;30센치미터/ /bread;화이트/에 /sandwich;페퍼 치킨 슈니첼/으로 해주시고, 치즈는 /cheese;아메리칸/으로 할게요.\n",
      "/length;30센티미터/ /bread;화이트/에 /sandwich;페퍼 치킨 슈니첼/으로 해주시고, 치즈는 /cheese;아메리칸/으로 할게요.\n",
      "/length;풋롱/ /bread;화이트/에 /sandwich;페퍼 치킨 슈니첼/으로 해주시고, 치즈는 /cheese;아메리칸/으로 할게요.\n",
      "/length;15센치/ /bread;화이트/에 /sandwich;페퍼로니 피자 썹/으로 해주시고, 치즈는 /cheese;아메리칸/으로 할게요.\n",
      "/length;15센치미터/ /bread;화이트/에 /sandwich;페퍼로니 피자 썹/으로 해주시고, 치즈는 /cheese;아메리칸/으로 할게요.\n",
      "/length;15센티/ /bread;화이트/에 /sandwich;페퍼로니 피자 썹/으로 해주시고, 치즈는 /cheese;아메리칸/으로 할게요.\n",
      "/length;15센티미터/ /bread;화이트/에 /sandwich;페퍼로니 피자 썹/으로 해주시고, 치즈는 /cheese;아메리칸/으로 할게요.\n",
      "/length;6인치/ /bread;화이트/에 /sandwich;페퍼로니 피자 썹/으로 해주시고, 치즈는 /cheese;아메리칸/으로 할게요.\n",
      "/length;6inch/ /bread;화이트/에 /sandwich;페퍼로니 피자 썹/으로 해주시고, 치즈는 /cheese;아메리칸/으로 할게요.\n",
      "/length;15cm/ /bread;화이트/에 /sandwich;페퍼로니 피자 썹/으로 해주시고, 치즈는 /cheese;아메리칸/으로 할게요.\n"
     ]
    }
   ],
   "source": [
    "pre_oven_data5 = []  \n",
    "\n",
    "## 빵, 길이, 메뉴, 치즈\n",
    "# 15cm 화이트에 이탈리안 비엠티 해주시고, 치즈는 아메리칸 치즈로 할게요.\n",
    "for cheese in menu['cheese']:\n",
    "    predicate = '으로 할게요.'\n",
    "    if has_coda(cheese):\n",
    "        predicate = '로 할게요.'\n",
    "    order = '치즈는 '+'/cheese;'+cheese+'/'+predicate\n",
    "    for x in pre_oven_bread_sandwich:\n",
    "        for length in menu['length']:\n",
    "            pre_oven_data5.append('/length;'+length+'/ '+x+order)\n",
    "\n",
    "\n",
    "print(len(pre_oven_data5))\n",
    "print(*pre_oven_data5[:20], sep='\\n') "
   ]
  },
  {
   "cell_type": "code",
   "execution_count": 32,
   "metadata": {},
   "outputs": [],
   "source": [
    "with open('data.csv', 'a') as f:\n",
    "    for sentence in random.sample(pre_oven_data5,200):\n",
    "        f.write(sentence+',')"
   ]
  },
  {
   "cell_type": "code",
   "execution_count": 33,
   "metadata": {
    "colab": {
     "base_uri": "https://localhost:8080/"
    },
    "id": "eu17_XmbR5_7",
    "outputId": "b7579fd3-de26-4ebf-c531-d947db10a7f7"
   },
   "outputs": [
    {
     "name": "stdout",
     "output_type": "stream",
     "text": [
      "87920\n",
      "/vegetable;양상추/랑 /vegetable;토마토/요.\n",
      "/vegetable;양상추/랑 /vegetable;토마토/ 빼주세요.\n",
      "채소는 /vegetable;양상추/랑 /vegetable;토마토/ 빼주세요.\n",
      "야채는 /vegetable;양상추/랑 /vegetable;토마토/ 빼주세요.\n",
      "/vegetable;양상추/ 빼주시고 /vegetable;토마토/도 빼주세요.\n",
      "채소는 /vegetable;양상추/ 빼주시고 /vegetable;토마토/도 빼주세요.\n",
      "야채는 /vegetable;양상추/ 빼주시고 /vegetable;토마토/도 빼주세요.\n",
      "/vegetable;양상추/하고 /vegetable;토마토/요.\n",
      "/vegetable;양상추/하고 /vegetable;토마토/ 빼주세요.\n",
      "채소는 /vegetable;양상추/하고 /vegetable;토마토/ 빼주세요.\n",
      "야채는 /vegetable;양상추/하고 /vegetable;토마토/ 빼주세요.\n",
      "/vegetable;양상추/ 빼주시고 /vegetable;토마토/도 빼주세요.\n",
      "채소는 /vegetable;양상추/ 빼주시고 /vegetable;토마토/도 빼주세요.\n",
      "야채는 /vegetable;양상추/ 빼주시고 /vegetable;토마토/도 빼주세요.\n",
      "/vegetable;양상추/, /vegetable;토마토/요.\n",
      "/vegetable;양상추/, /vegetable;토마토/ 빼주세요.\n",
      "채소는 /vegetable;양상추/, /vegetable;토마토/ 빼주세요.\n",
      "야채는 /vegetable;양상추/, /vegetable;토마토/ 빼주세요.\n",
      "/vegetable;양상추/ 빼주시고 /vegetable;토마토/도 빼주세요.\n",
      "채소는 /vegetable;양상추/ 빼주시고 /vegetable;토마토/도 빼주세요.\n",
      "야채는 /vegetable;양상추/ 빼주시고 /vegetable;토마토/도 빼주세요.\n",
      "/vegetable;양상추/ 그리고 /vegetable;토마토/요.\n",
      "/vegetable;양상추/랑 /vegetable;오이/요.\n",
      "/vegetable;양상추/랑 /vegetable;오이/ 빼주세요.\n",
      "채소는 /vegetable;양상추/랑 /vegetable;오이/ 빼주세요.\n"
     ]
    }
   ],
   "source": [
    "from itertools import permutations\n",
    "\n",
    "mult_veg_data = []\n",
    "post_oven_veg = []\n",
    "# 양파랑 피망 빼주세요.\n",
    "# 채소/야채는 양파하고 피망 빼주세요.\n",
    "# 양파랑 피망이랑 할라피뇨요.\n",
    "# 양파, 피망, 할라피뇨요.\n",
    "# 양파하고 피망하고 할라피뇨요.\n",
    "# 양파 빼주시고 피망도 빼주세요.\n",
    "# 양파, 피망 그리고 할라피뇨요.\n",
    "connectives = ['이랑 ','하고 ',', ']\n",
    "veges = menu['vegetable']\n",
    "MAX_VEGE = 4\n",
    "for i in range(2,MAX_VEGE+1):\n",
    "    for p_veg in permutations(veges,i):\n",
    "        order = ''\n",
    "        for veg in p_veg:\n",
    "            order+='/vegetable;'+veg+'/'+', '\n",
    "        post_oven_veg.append(order[:-2] + ' 빼주시고, ')\n",
    "        for p_con in permutations(connectives,i-1):\n",
    "            order = ''\n",
    "            for veg,con in zip(p_veg[:-1],p_con):\n",
    "                order+='/vegetable;'+veg+'/'\n",
    "                if con == '이랑 ':\n",
    "                    if has_coda(veg):\n",
    "                        con=con[1:]\n",
    "                order+=con\n",
    "            order+='/vegetable;'+p_veg[-1]+'/'\n",
    "            # \"{채소}(랑/하고/,) {채소}(랑/하고/,) {채소}요.\"\n",
    "            order2=order\n",
    "            if not has_coda(p_veg[-1]):\n",
    "                order2+='이'\n",
    "            mult_veg_data.append(order2+'요.')\n",
    "            order+=' 빼주세요.'\n",
    "            # \"{채소}(랑/하고/,) {채소}(랑/하고/,) {채소} 빼주세요.\"\n",
    "            mult_veg_data.append(order)\n",
    "            for veg in cat['vegetable']:\n",
    "                # \"{veg}는 {채소}(랑/하고/,) {채소}(랑/하고/,) {채소} 빼주세요.\"\n",
    "                mult_veg_data.append(veg+'는 '+order)\n",
    "                \n",
    "            order = ''\n",
    "            for veg,con in zip(p_veg[:-2],p_con):\n",
    "                order+='/vegetable;'+veg+'/'\n",
    "                if con == '이랑 ':\n",
    "                    if has_coda(veg):\n",
    "                        con=con[1:]\n",
    "                order+=con\n",
    "            order+='/vegetable;'+p_veg[-2]+'/'+' 빼주시고 '\n",
    "            order+='/vegetable;'+p_veg[-1]+'/'+'도 빼주세요.'\n",
    "            # \"{채소}(랑/하고/,) {채소} 빼주시고 {채소}도 빼주세요.\"\n",
    "            mult_veg_data.append(order)\n",
    "            for veg in cat['vegetable']:\n",
    "                # \"{veg}는 {채소}(랑/하고/,) {채소} 빼주시고 {채소}도 빼주세요.\"\n",
    "                mult_veg_data.append(veg+'는 '+order)\n",
    "                \n",
    "        order=''\n",
    "        for veg in p_veg[:-2]:\n",
    "            order+='/vegetable;'+veg+'/'+', '\n",
    "        order+='/vegetable;'+p_veg[-2]+'/'+' 그리고 '\n",
    "        order+='/vegetable;'+p_veg[-1]+'/'+'요.'\n",
    "        # \"{채소}, {채소} 그리고 {채소}요.\"\n",
    "        mult_veg_data.append(order)\n",
    "            \n",
    "print(len(mult_veg_data))\n",
    "print(*mult_veg_data[:25], sep='\\n')                    "
   ]
  },
  {
   "cell_type": "code",
   "execution_count": 34,
   "metadata": {
    "colab": {
     "base_uri": "https://localhost:8080/"
    },
    "id": "C2d9Pbm3R5_8",
    "outputId": "c288d47b-3f68-403d-fc9a-98f8eb4d7b58"
   },
   "outputs": [],
   "source": [
    "with open('data.csv', 'a') as f:\n",
    "    for sentence in random.sample(mult_veg_data,200):\n",
    "        f.write(sentence+',')"
   ]
  },
  {
   "cell_type": "code",
   "execution_count": 36,
   "metadata": {
    "colab": {
     "base_uri": "https://localhost:8080/"
    },
    "id": "O-D7YvgJR5_8",
    "outputId": "3936646e-eb56-42ed-ea0b-2efb2e7f741e"
   },
   "outputs": [
    {
     "name": "stdout",
     "output_type": "stream",
     "text": [
      "68250\n",
      "/sauce;랜치/랑 /sauce;마요네즈/요.\n",
      "/sauce;랜치/랑 /sauce;마요네즈/로 해주세요.\n",
      "/sauce;랜치/랑 /sauce;마요네즈/로 할게요.\n",
      "/sauce;랜치/랑 /sauce;마요네즈/로 주세요.\n",
      "/sauce;랜치/랑 /sauce;마요네즈/로 주이소.\n",
      "/sauce;랜치/하고 /sauce;마요네즈/요.\n",
      "/sauce;랜치/하고 /sauce;마요네즈/로 해주세요.\n",
      "/sauce;랜치/하고 /sauce;마요네즈/로 할게요.\n",
      "/sauce;랜치/하고 /sauce;마요네즈/로 주세요.\n",
      "/sauce;랜치/하고 /sauce;마요네즈/로 주이소.\n",
      "/sauce;랜치/, /sauce;마요네즈/요.\n",
      "/sauce;랜치/, /sauce;마요네즈/로 해주세요.\n",
      "/sauce;랜치/, /sauce;마요네즈/로 할게요.\n",
      "/sauce;랜치/, /sauce;마요네즈/로 주세요.\n",
      "/sauce;랜치/, /sauce;마요네즈/로 주이소.\n",
      "/sauce;랜치/랑 /sauce;스위트 어니언/이요.\n",
      "/sauce;랜치/랑 /sauce;스위트 어니언/으로 해주세요.\n",
      "/sauce;랜치/랑 /sauce;스위트 어니언/으로 할게요.\n",
      "/sauce;랜치/랑 /sauce;스위트 어니언/으로 주세요.\n",
      "/sauce;랜치/랑 /sauce;스위트 어니언/으로 주이소.\n",
      "/sauce;랜치/하고 /sauce;스위트 어니언/이요.\n",
      "/sauce;랜치/하고 /sauce;스위트 어니언/으로 해주세요.\n",
      "/sauce;랜치/하고 /sauce;스위트 어니언/으로 할게요.\n",
      "/sauce;랜치/하고 /sauce;스위트 어니언/으로 주세요.\n",
      "/sauce;랜치/하고 /sauce;스위트 어니언/으로 주이소.\n"
     ]
    }
   ],
   "source": [
    "mult_sauce_data = []\n",
    "post_oven_sauce = []\n",
    "connectives = ['이랑 ','하고 ',', ']\n",
    "pos_predicates = ['으로 해주세요.','으로 할게요.','으로 주세요.','으로 주이소.']\n",
    "sauces = menu['sauce']\n",
    "MAX_SAUCE = 3\n",
    "for i in range(2,MAX_SAUCE+1):\n",
    "    for p_sauces in permutations(sauces,i):\n",
    "        order = ''\n",
    "        for sauce in p_sauces:\n",
    "            order+='/sauce;'+sauce+'/'+', '\n",
    "        post_oven_sauce.append(order[:-2] + ' 넣어주세요.')\n",
    "        \n",
    "        for p_con in permutations(connectives,i-1):\n",
    "            order = ''\n",
    "            for sauce,con in zip(p_sauces[:-1],p_con):\n",
    "                order+='/sauce;'+sauce+'/'\n",
    "                if con == '이랑 ':\n",
    "                    if has_coda(sauce):\n",
    "                        con=con[1:]\n",
    "                order+=con\n",
    "            order+='/sauce;'+p_sauces[-1]+'/'\n",
    "            # \"{소스}(랑/하고/,) {소스}(랑/하고/,) {소스}요.\"\n",
    "            order2=order\n",
    "            if not has_coda(p_sauces[-1]):\n",
    "                order2+='이'\n",
    "            mult_sauce_data.append(order2+'요.')\n",
    "            \n",
    "            for pos_predicate in pos_predicates:\n",
    "                if has_coda(p_sauces[-1]):\n",
    "                    pos_predicate = pos_predicate[1:]\n",
    "                mult_sauce_data.append(order+pos_predicate)\n",
    "                \n",
    "print(len(mult_sauce_data))\n",
    "print(*mult_sauce_data[:25], sep='\\n')                    "
   ]
  },
  {
   "cell_type": "code",
   "execution_count": 37,
   "metadata": {
    "colab": {
     "base_uri": "https://localhost:8080/"
    },
    "id": "C6XhjJ4eR5_9",
    "outputId": "40a3d7d1-da0b-4f39-9435-ad4e977e33fb"
   },
   "outputs": [],
   "source": [
    "with open('data.csv', 'a') as f:\n",
    "    for sentence in random.sample(mult_sauce_data,200):\n",
    "        f.write(sentence+',')"
   ]
  },
  {
   "cell_type": "code",
   "execution_count": 38,
   "metadata": {
    "colab": {
     "base_uri": "https://localhost:8080/"
    },
    "id": "JKU2T51AR5_9",
    "outputId": "501948ca-c810-45fc-ce4d-38039afd7ffc",
    "scrolled": true
   },
   "outputs": [
    {
     "name": "stdout",
     "output_type": "stream",
     "text": [
      "4902352\n",
      "/vegetable;양상추/, /vegetable;토마토/ 빼주시고, /sauce;랜치/, /sauce;마요네즈/ 넣어주세요.\n",
      "/vegetable;양상추/, /vegetable;토마토/ 빼주시고, /sauce;랜치/, /sauce;스위트 어니언/ 넣어주세요.\n",
      "/vegetable;양상추/, /vegetable;토마토/ 빼주시고, /sauce;랜치/, /sauce;허니 머스타드/ 넣어주세요.\n",
      "/vegetable;양상추/, /vegetable;토마토/ 빼주시고, /sauce;랜치/, /sauce;스위트 칠리/ 넣어주세요.\n",
      "/vegetable;양상추/, /vegetable;토마토/ 빼주시고, /sauce;랜치/, /sauce;핫 칠리/ 넣어주세요.\n",
      "/vegetable;양상추/, /vegetable;토마토/ 빼주시고, /sauce;랜치/, /sauce;사우스웨스트 치폴레/ 넣어주세요.\n",
      "/vegetable;양상추/, /vegetable;토마토/ 빼주시고, /sauce;랜치/, /sauce;머스타드/ 넣어주세요.\n",
      "/vegetable;양상추/, /vegetable;토마토/ 빼주시고, /sauce;랜치/, /sauce;홀스래디쉬/ 넣어주세요.\n",
      "/vegetable;양상추/, /vegetable;토마토/ 빼주시고, /sauce;랜치/, /sauce;올리브 오일/ 넣어주세요.\n",
      "/vegetable;양상추/, /vegetable;토마토/ 빼주시고, /sauce;랜치/, /sauce;레드와인식초/ 넣어주세요.\n",
      "/vegetable;양상추/, /vegetable;토마토/ 빼주시고, /sauce;랜치/, /sauce;소금/ 넣어주세요.\n",
      "/vegetable;양상추/, /vegetable;토마토/ 빼주시고, /sauce;랜치/, /sauce;후추/ 넣어주세요.\n",
      "/vegetable;양상추/, /vegetable;토마토/ 빼주시고, /sauce;랜치/, /sauce;스모크 바비큐/ 넣어주세요.\n",
      "/vegetable;양상추/, /vegetable;토마토/ 빼주시고, /sauce;마요네즈/, /sauce;랜치/ 넣어주세요.\n",
      "/vegetable;양상추/, /vegetable;토마토/ 빼주시고, /sauce;마요네즈/, /sauce;스위트 어니언/ 넣어주세요.\n",
      "/vegetable;양상추/, /vegetable;토마토/ 빼주시고, /sauce;마요네즈/, /sauce;허니 머스타드/ 넣어주세요.\n",
      "/vegetable;양상추/, /vegetable;토마토/ 빼주시고, /sauce;마요네즈/, /sauce;스위트 칠리/ 넣어주세요.\n",
      "/vegetable;양상추/, /vegetable;토마토/ 빼주시고, /sauce;마요네즈/, /sauce;핫 칠리/ 넣어주세요.\n",
      "/vegetable;양상추/, /vegetable;토마토/ 빼주시고, /sauce;마요네즈/, /sauce;사우스웨스트 치폴레/ 넣어주세요.\n",
      "/vegetable;양상추/, /vegetable;토마토/ 빼주시고, /sauce;마요네즈/, /sauce;머스타드/ 넣어주세요.\n",
      "/vegetable;양상추/, /vegetable;토마토/ 빼주시고, /sauce;마요네즈/, /sauce;홀스래디쉬/ 넣어주세요.\n",
      "/vegetable;양상추/, /vegetable;토마토/ 빼주시고, /sauce;마요네즈/, /sauce;올리브 오일/ 넣어주세요.\n",
      "/vegetable;양상추/, /vegetable;토마토/ 빼주시고, /sauce;마요네즈/, /sauce;레드와인식초/ 넣어주세요.\n",
      "/vegetable;양상추/, /vegetable;토마토/ 빼주시고, /sauce;마요네즈/, /sauce;소금/ 넣어주세요.\n",
      "/vegetable;양상추/, /vegetable;토마토/ 빼주시고, /sauce;마요네즈/, /sauce;후추/ 넣어주세요.\n"
     ]
    }
   ],
   "source": [
    "post_oven_data = []\n",
    "for x in post_oven_veg:\n",
    "    for y in post_oven_sauce:\n",
    "        post_oven_data.append(x+y)\n",
    "        \n",
    "print(len(post_oven_data))\n",
    "print(*post_oven_data[:25], sep='\\n')                    "
   ]
  },
  {
   "cell_type": "code",
   "execution_count": 39,
   "metadata": {
    "colab": {
     "base_uri": "https://localhost:8080/"
    },
    "id": "VCqDNyRBX4aW",
    "outputId": "e9aeadb8-3051-4b40-c026-4e85c0d4f32d"
   },
   "outputs": [],
   "source": [
    "with open('data.csv', 'a') as f:\n",
    "    for sentence in random.sample(post_oven_data,200):\n",
    "        f.write(sentence+',')"
   ]
  },
  {
   "cell_type": "code",
   "execution_count": 42,
   "metadata": {
    "colab": {
     "base_uri": "https://localhost:8080/"
    },
    "id": "kwgSSbYwXQku",
    "outputId": "8e022e28-9765-423a-ae01-f0d0e4b4416c"
   },
   "outputs": [
    {
     "name": "stdout",
     "output_type": "stream",
     "text": [
      "200\n",
      "/bread;하티/ /length;6inch/ /sandwich;이탈리안 BLT/에다가 치즈는 /cheese;모짜렐라/로 해주시고, 채소는 /vegetable;양파/  빼주시고, /sauce;후추/ 로 해주세요.\n",
      "/bread;파마산오레가노/ /length;풋롱/ /sandwich;써브웨이 클럽/에다가 치즈는 /cheese;슈레드 치츠/로 해주시고, 채소는 /vegetable;오이/  빼주시고, /sauce;레드와인식초/ 로 해주세요.\n",
      "/bread;플랫/ /length;30센치/ /sandwich;햄/에다가 치즈는 /cheese;슈레드/로 해주시고, 채소는 /vegetable;올리브/  빼주시고, /sauce;허니 머스타드/ 로 해주세요.\n",
      "/bread;하티/ /length;15센치미터/ /sandwich;이탈리안 BLT/에다가 치즈는 /cheese;모차렐라/로 해주시고, 채소는 /vegetable;피클/  빼주시고, /sauce;머스타드/ 로 해주세요.\n",
      "/bread;위트/ /length;15cm/ /sandwich;이탈리안 비엠티/에다가 치즈는 /cheese;슈레드/로 해주시고, 채소는 /vegetable;오이/  빼주시고, /sauce;올리브 오일/ 으로 해주세요.\n",
      "/bread;파마산/ /length;15센티미터/ /sandwich;에그마요/에다가 치즈는 /cheese;아메리칸/으로 해주시고, 채소는 /vegetable;토마토/  빼주시고, /sauce;레드와인식초/ 로 해주세요.\n",
      "/bread;파마산오레가노/ /length;15센티/ /sandwich;풀드 포크 바비큐/에다가 치즈는 /cheese;모차렐라 치츠/로 해주시고, 채소는 /vegetable;양상추/  빼주시고, /sauce;후추/ 로 해주세요.\n",
      "/bread;화이트/ /length;15센치미터/ /sandwich;쉬림프/에다가 치즈는 /cheese;모짜렐라/로 해주시고, 채소는 /vegetable;피클/  빼주시고, /sauce;마요네즈/ 로 해주세요.\n",
      "/bread;화이트/ /length;30센치/ /sandwich;풀드 포크 바비큐/에다가 치즈는 /cheese;모짜렐라/로 해주시고, 채소는 /vegetable;할라피뇨/  빼주시고, /sauce;레드와인식초/ 로 해주세요.\n",
      "/bread;화이트/ /length;15센치/ /sandwich;페퍼 치킨 슈니첼/에다가 치즈는 /cheese;아메리칸 치즈/로 해주시고, 채소는 /vegetable;양상추/  빼주시고, /sauce;핫 칠리/ 로 해주세요.\n",
      "/bread;파마산오레가노/ /length;15센티/ /sandwich;스파이시 이탈리안/에다가 치즈는 /cheese;모차렐라/로 해주시고, 채소는 /vegetable;양상추/  빼주시고, /sauce;마요네즈/ 로 해주세요.\n",
      "/bread;파마산오레가노/ /length;15센치미터/ /sandwich;스파이시 이탈리안/에다가 치즈는 /cheese;모차렐라/로 해주시고, 채소는 /vegetable;토마토/  빼주시고, /sauce;레드와인식초/ 로 해주세요.\n",
      "/bread;위트/ /length;30센치/ /sandwich;에그마요/에다가 치즈는 /cheese;모차렐라 치츠/로 해주시고, 채소는 /vegetable;토마토/  빼주시고, /sauce;소금/ 으로 해주세요.\n",
      "/bread;화이트/ /length;30센치/ /sandwich;페퍼로니 피자 썹/에다가 치즈는 /cheese;모짜렐라/로 해주시고, 채소는 /vegetable;올리브/  빼주시고, /sauce;후추/ 로 해주세요.\n",
      "/bread;플랫/ /length;풋롱/ /sandwich;터키/에다가 치즈는 /cheese;모차렐라 치츠/로 해주시고, 채소는 /vegetable;올리브/  빼주시고, /sauce;핫 칠리/ 로 해주세요.\n",
      "/bread;파마산/ /length;15센치미터/ /sandwich;쉬림프/에다가 치즈는 /cheese;아메리칸 치즈/로 해주시고, 채소는 /vegetable;할라피뇨/  빼주시고, /sauce;핫 칠리/ 로 해주세요.\n",
      "/bread;하티/ /length;풋롱/ /sandwich;스테이크 & 치즈/에다가 치즈는 /cheese;아메리칸 치즈/로 해주시고, 채소는 /vegetable;피클/  빼주시고, /sauce;레드와인식초/ 로 해주세요.\n",
      "/bread;파마산/ /length;30cm/ /sandwich;로티세리 바비큐 치킨/에다가 치즈는 /cheese;슈레드/로 해주시고, 채소는 /vegetable;양상추/  빼주시고, /sauce;머스타드/ 로 해주세요.\n",
      "/bread;파마산오레가노/ /length;15센티/ /sandwich;K-바비큐/에다가 치즈는 /cheese;모차렐라/로 해주시고, 채소는 /vegetable;양상추/  빼주시고, /sauce;스위트 어니언/ 으로 해주세요.\n",
      "/bread;파마산/ /length;30cm/ /sandwich;이탈리안 BLT/에다가 치즈는 /cheese;아메리칸 치즈/로 해주시고, 채소는 /vegetable;오이/  빼주시고, /sauce;스모크 바비큐/ 로 해주세요.\n",
      "/bread;화이트/ /length;15센티/ /sandwich;풀드 포크 바비큐/에다가 치즈는 /cheese;모차렐라/로 해주시고, 채소는 /vegetable;토마토/  빼주시고, /sauce;레드와인식초/ 로 해주세요.\n",
      "/bread;플랫/ /length;30센티/ /sandwich;쉬림프/에다가 치즈는 /cheese;아메리칸/으로 해주시고, 채소는 /vegetable;올리브/  빼주시고, /sauce;레드와인식초/ 로 해주세요.\n",
      "/bread;플랫/ /length;6inch/ /sandwich;스테이크 & 치즈/에다가 치즈는 /cheese;모차렐라/로 해주시고, 채소는 /vegetable;피망/  빼주시고, /sauce;스모크 바비큐/ 로 해주세요.\n",
      "/bread;허니오트/ /length;6인치/ /sandwich;이탈리안 BLT/에다가 치즈는 /cheese;모짜렐라/로 해주시고, 채소는 /vegetable;피망/  빼주시고, /sauce;랜치/ 로 해주세요.\n",
      "/bread;위트/ /length;15센치/ /sandwich;미트볼/에다가 치즈는 /cheese;모짜렐라/로 해주시고, 채소는 /vegetable;오이/  빼주시고, /sauce;홀스래디쉬/ 로 해주세요.\n"
     ]
    }
   ],
   "source": [
    "from itertools import permutations\n",
    "\n",
    "complex_data = []\n",
    "## 완전 주문\n",
    "# {빵} {길이} {샌드위치}에다가 치즈는 {치즈}로 해주시고, 채소는 {채소} 빼주시고,\n",
    "# 소스는 {소스}로 해주세요.\n",
    "complex_front = []\n",
    "for bread in menu['bread']:\n",
    "    bread = '/bread;'+bread+'/ '\n",
    "    for length in menu['length']:\n",
    "        length = '/length;'+length+'/ '\n",
    "        for sandwich in menu['sandwich']:\n",
    "            sandwich = '/sandwich;'+sandwich+'/'\n",
    "            for cheese in menu['cheese']:\n",
    "                cheese_predicate = '으로 해주시고, '\n",
    "                if has_coda(cheese):\n",
    "                    cheese_predicate = '로 해주시고, '\n",
    "                cheese = '/cheese;'+cheese+'/'\n",
    "                complex_front.append(bread+length+sandwich+\\\n",
    "                                    '에다가 치즈는 '+cheese+\\\n",
    "                                   cheese_predicate)\n",
    "MAX_VEG = 1\n",
    "MAX_SAUCE = 1\n",
    "complex_back = []\n",
    "for i in range(1,MAX_VEG+1):\n",
    "    for p_veg in permutations(menu['vegetable'],i):\n",
    "        vegs = ''\n",
    "        for veg in p_veg:\n",
    "            vegs+='/vegetable;'+veg+'/ '\n",
    "        for i in range(1,MAX_SAUCE+1):\n",
    "            for p_sauce in permutations(menu['sauce'],i):\n",
    "                sauces = ''\n",
    "                for sauce in p_sauce:\n",
    "                    sauces+='/sauce;'+sauce+'/ '\n",
    "                sauce_predicate = '으로 해주세요.'\n",
    "                if has_coda(sauce):\n",
    "                    sauce_predicate = '로 해주세요.'\n",
    "                complex_back.append('채소는 '+\\\n",
    "                                   vegs+' 빼주시고, '+\\\n",
    "                                   sauces+sauce_predicate)\n",
    "\n",
    "'''\n",
    "print(len(complex_front)) \n",
    "print(len(complex_back))      \n",
    "print(len(complex_back)*len(complex_front))\n",
    "\n",
    "for front in complex_front:\n",
    "    for back in complex_back:\n",
    "      complex_data.append(front+back)\n",
    "'''\n",
    "\n",
    "for _ in range(200):\n",
    "    complex_data.append(random.choice(complex_front)+random.choice(complex_back))\n",
    "\n",
    "print(len(complex_data))\n",
    "print(*complex_data[:25], sep='\\n')   "
   ]
  },
  {
   "cell_type": "code",
   "execution_count": 43,
   "metadata": {},
   "outputs": [
    {
     "name": "stdout",
     "output_type": "stream",
     "text": [
      "200\n"
     ]
    }
   ],
   "source": [
    "print(len(set(complex_data)))\n",
    "with open('data.csv', 'a') as f:\n",
    "    for sentence in complex_data:\n",
    "        f.write(sentence+',')"
   ]
  },
  {
   "cell_type": "code",
   "execution_count": 44,
   "metadata": {
    "colab": {
     "base_uri": "https://localhost:8080/"
    },
    "id": "q-YjYkxYR5__",
    "outputId": "e1a0e82d-cc53-4198-d3ff-aec485ebee3a",
    "scrolled": true
   },
   "outputs": [
    {
     "name": "stdout",
     "output_type": "stream",
     "text": [
      "200\n",
      "/bread;파마산/ /sandwich;에그마요/에다가 치즈는 /cheese;모차렐라 치츠/로 해주시고, 채소는 /vegetable;피망/  빼주시고요, /sauce;랜치/ 로 해주세요.\n",
      "/bread;위트/ /sandwich;쉬림프/에다가 치즈는 /cheese;슈레드 치츠/로 해주시고, 채소는 /vegetable;피클/  빼주시고요, /sauce;랜치/ 로 해주세요.\n",
      "/bread;플랫/ /sandwich;페퍼로니 피자 썹/에다가 치즈는 /cheese;모짜렐라/로 해주시고, 채소는 /vegetable;토마토/  빼주시고요, /sauce;소금/ 으로 해주세요.\n",
      "/bread;파마산/ /sandwich;베지/에다가 치즈는 /cheese;슈레드 치츠/로 해주시고, 채소는 /vegetable;피클/  빼주시고요, /sauce;스위트 어니언/ 으로 해주세요.\n",
      "/bread;플랫/ /sandwich;페퍼로니 피자 썹/에다가 치즈는 /cheese;모짜렐라/로 해주시고, 채소는 /vegetable;양상추/  빼주시고요, /sauce;스모크 바비큐/ 로 해주세요.\n",
      "/bread;허니오트/ /sandwich;참치/에다가 치즈는 /cheese;모짜렐라/로 해주시고, 채소는 /vegetable;피클/  빼주시고요, /sauce;스위트 칠리/ 로 해주세요.\n",
      "/bread;화이트/ /sandwich;로티세리 바비큐 치킨/에다가 치즈는 /cheese;모차렐라 치츠/로 해주시고, 채소는 /vegetable;피클/  빼주시고요, /sauce;핫 칠리/ 로 해주세요.\n",
      "/bread;위트/ /sandwich;베지/에다가 치즈는 /cheese;아메리칸 치즈/로 해주시고, 채소는 /vegetable;피망/  빼주시고요, /sauce;허니 머스타드/ 로 해주세요.\n",
      "/bread;허니오트/ /sandwich;스테이크 앤 치즈/에다가 치즈는 /cheese;슈레드 치츠/로 해주시고, 채소는 /vegetable;올리브/  빼주시고요, /sauce;스위트 칠리/ 로 해주세요.\n",
      "/bread;화이트/ /sandwich;이탈리안 비엠티/에다가 치즈는 /cheese;슈레드 치츠/로 해주시고, 채소는 /vegetable;피망/  빼주시고요, /sauce;후추/ 로 해주세요.\n",
      "/bread;허니오트/ /sandwich;터키/에다가 치즈는 /cheese;모차렐라/로 해주시고, 채소는 /vegetable;피망/  빼주시고요, /sauce;머스타드/ 로 해주세요.\n",
      "/bread;화이트/ /sandwich;스파이시 이탈리안/에다가 치즈는 /cheese;모짜렐라/로 해주시고, 채소는 /vegetable;오이/  빼주시고요, /sauce;소금/ 으로 해주세요.\n",
      "/bread;허니오트/ /sandwich;햄/에다가 치즈는 /cheese;모차렐라/로 해주시고, 채소는 /vegetable;토마토/  빼주시고요, /sauce;소금/ 으로 해주세요.\n",
      "/bread;플랫/ /sandwich;이탈리안 비엠티/에다가 치즈는 /cheese;모차렐라 치츠/로 해주시고, 채소는 /vegetable;토마토/  빼주시고요, /sauce;스모크 바비큐/ 로 해주세요.\n",
      "/bread;파마산/ /sandwich;터키/에다가 치즈는 /cheese;슈레드/로 해주시고, 채소는 /vegetable;할라피뇨/  빼주시고요, /sauce;허니 머스타드/ 로 해주세요.\n",
      "/bread;화이트/ /sandwich;에그마요/에다가 치즈는 /cheese;아메리칸/으로 해주시고, 채소는 /vegetable;올리브/  빼주시고요, /sauce;사우스웨스트 치폴레/ 로 해주세요.\n",
      "/bread;허니오트/ /sandwich;참치/에다가 치즈는 /cheese;모차렐라/로 해주시고, 채소는 /vegetable;토마토/  빼주시고요, /sauce;레드와인식초/ 로 해주세요.\n",
      "/bread;허니오트/ /sandwich;BMT/에다가 치즈는 /cheese;모차렐라 치츠/로 해주시고, 채소는 /vegetable;양파/  빼주시고요, /sauce;사우스웨스트 치폴레/ 로 해주세요.\n",
      "/bread;허니오트/ /sandwich;페퍼로니 피자 썹/에다가 치즈는 /cheese;아메리칸/으로 해주시고, 채소는 /vegetable;할라피뇨/  빼주시고요, /sauce;레드와인식초/ 로 해주세요.\n",
      "/bread;허니오트/ /sandwich;페퍼로니 피자 썹/에다가 치즈는 /cheese;모짜렐라/로 해주시고, 채소는 /vegetable;올리브/  빼주시고요, /sauce;사우스웨스트 치폴레/ 로 해주세요.\n",
      "/bread;플랫/ /sandwich;쉬림프/에다가 치즈는 /cheese;아메리칸 치즈/로 해주시고, 채소는 /vegetable;피클/  빼주시고요, /sauce;랜치/ 로 해주세요.\n",
      "/bread;파마산오레가노/ /sandwich;로스트 치킨/에다가 치즈는 /cheese;모차렐라/로 해주시고, 채소는 /vegetable;피클/  빼주시고요, /sauce;핫 칠리/ 로 해주세요.\n",
      "/bread;하티/ /sandwich;BMT/에다가 치즈는 /cheese;아메리칸 치즈/로 해주시고, 채소는 /vegetable;토마토/  빼주시고요, /sauce;후추/ 로 해주세요.\n",
      "/bread;위트/ /sandwich;햄/에다가 치즈는 /cheese;슈레드 치츠/로 해주시고, 채소는 /vegetable;할라피뇨/  빼주시고요, /sauce;스위트 어니언/ 으로 해주세요.\n",
      "/bread;플랫/ /sandwich;치킨 데리야끼/에다가 치즈는 /cheese;모차렐라 치츠/로 해주시고, 채소는 /vegetable;할라피뇨/  빼주시고요, /sauce;머스타드/ 로 해주세요.\n"
     ]
    }
   ],
   "source": [
    "## {길이} 없을 때\n",
    "# {빵} {샌드위치}에다가 치즈는 {치즈}로 해주시고, 채소는 {채소} 빼주시고,\n",
    "# 소스는 {소스}로 해주세요.\n",
    "complex_front = []\n",
    "for bread in menu['bread']:\n",
    "    bread = '/bread;'+bread+'/ '\n",
    "    for sandwich in menu['sandwich']:\n",
    "        sandwich = '/sandwich;'+sandwich+'/'\n",
    "        for cheese in menu['cheese']:\n",
    "            cheese_predicate = '으로 해주시고, '\n",
    "            if has_coda(cheese):\n",
    "                cheese_predicate = '로 해주시고, '\n",
    "            cheese = '/cheese;'+cheese+'/'\n",
    "            complex_front.append(bread+sandwich+\\\n",
    "                                '에다가 치즈는 '+cheese+\\\n",
    "                               cheese_predicate)\n",
    "MAX_VEG = 1\n",
    "MAX_SAUCE = 1\n",
    "complex_back = []\n",
    "for i in range(1,MAX_VEG+1):\n",
    "    for p_veg in permutations(menu['vegetable'],i):\n",
    "        vegs = ''\n",
    "        for veg in p_veg:\n",
    "            vegs+='/vegetable;'+veg+'/ '\n",
    "        for i in range(1,MAX_SAUCE+1):\n",
    "            for p_sauce in permutations(menu['sauce'],i):\n",
    "                sauces = ''\n",
    "                for sauce in p_sauce:\n",
    "                    sauces+='/sauce;'+sauce+'/ '\n",
    "                sauce_predicate = '으로 해주세요.'\n",
    "                if has_coda(sauce):\n",
    "                    sauce_predicate = '로 해주세요.'\n",
    "                complex_back.append('채소는 '+\\\n",
    "                                   vegs+' 빼주시고요, '+\\\n",
    "                                   sauces+sauce_predicate)\n",
    "                        \n",
    "'''\n",
    "print(len(complex_front)) \n",
    "print(len(complex_back))     \n",
    "print(len(complex_back)*len(complex_front))\n",
    "for front in complex_front:\n",
    "    for back in complex_back:\n",
    "      complex_data.append(front+back)\n",
    "'''\n",
    "complex_data = []\n",
    "for _ in range(200):\n",
    "    complex_data.append(random.choice(complex_front)+random.choice(complex_back))\n",
    "\n",
    "print(len(complex_data))\n",
    "print(*complex_data[:25], sep='\\n')   "
   ]
  },
  {
   "cell_type": "code",
   "execution_count": 45,
   "metadata": {},
   "outputs": [
    {
     "name": "stdout",
     "output_type": "stream",
     "text": [
      "200\n"
     ]
    }
   ],
   "source": [
    "print(len(set(complex_data)))\n",
    "with open('data.csv', 'a') as f:\n",
    "    for sentence in complex_data:\n",
    "        f.write(sentence+',')"
   ]
  },
  {
   "cell_type": "code",
   "execution_count": 47,
   "metadata": {
    "colab": {
     "base_uri": "https://localhost:8080/"
    },
    "id": "tqbVG3m1R6AA",
    "outputId": "563e98c5-fc6b-4056-863e-4893de6e3b27"
   },
   "outputs": [
    {
     "name": "stdout",
     "output_type": "stream",
     "text": [
      "200\n",
      "/bread;파마산오레가노/ /length;15센치미터/ /sandwich;풀드 포크 바비큐/로 해주시고요, 채소는 /vegetable;양파/ /vegetable;할라피뇨/  빼주시고, /sauce;소금/ 으로 해주세요.\n",
      "/bread;화이트/ /length;15센티/ /sandwich;로스트 치킨/로 해주시고요, 채소는 /vegetable;피클/ /vegetable;토마토/  빼주시고, /sauce;후추/ 로 해주세요.\n",
      "/bread;위트/ /length;6인치/ /sandwich;페퍼 치킨 슈니첼/로 해주시고요, 채소는 /vegetable;올리브/ /vegetable;오이/  빼주시고, /sauce;올리브 오일/ 으로 해주세요.\n",
      "/bread;파마산오레가노/ /length;15센치미터/ /sandwich;터키/로 해주시고요, 채소는 /vegetable;피망/ /vegetable;오이/  빼주시고, /sauce;허니 머스타드/ 로 해주세요.\n",
      "/bread;하티/ /length;30센티/ /sandwich;터키 베이컨 아보카도/로 해주시고요, 채소는 /vegetable;올리브/ /vegetable;할라피뇨/  빼주시고, /sauce;마요네즈/ 로 해주세요.\n",
      "/bread;위트/ /length;풋롱/ /sandwich;쉬림프/로 해주시고요, 채소는 /vegetable;피망/ /vegetable;오이/  빼주시고, /sauce;핫 칠리/ 로 해주세요.\n",
      "/bread;플랫/ /length;15센티미터/ /sandwich;스테이크 앤 치즈/로 해주시고요, 채소는 /vegetable;피클/  빼주시고, /sauce;홀스래디쉬/ 로 해주세요.\n",
      "/bread;파마산/ /length;30센티/ /sandwich;BMT/로 해주시고요, 채소는 /vegetable;오이/ /vegetable;피망/  빼주시고, /sauce;랜치/ 로 해주세요.\n",
      "/bread;플랫/ /length;6인치/ /sandwich;로티세리 바비큐 치킨/로 해주시고요, 채소는 /vegetable;올리브/ /vegetable;할라피뇨/  빼주시고, /sauce;홀스래디쉬/ 로 해주세요.\n",
      "/bread;파마산/ /length;15센티/ /sandwich;페퍼로니 피자 썹/로 해주시고요, 채소는 /vegetable;피망/ /vegetable;양파/  빼주시고, /sauce;레드와인식초/ 로 해주세요.\n",
      "/bread;하티/ /length;30센티/ /sandwich;스테이크 & 치즈/로 해주시고요, 채소는 /vegetable;올리브/ /vegetable;오이/  빼주시고, /sauce;마요네즈/ 로 해주세요.\n",
      "/bread;허니오트/ /length;30센치미터/ /sandwich;햄/로 해주시고요, 채소는 /vegetable;오이/ /vegetable;할라피뇨/  빼주시고, /sauce;레드와인식초/ 로 해주세요.\n",
      "/bread;플랫/ /length;15센티/ /sandwich;스테이크 앤 치즈/로 해주시고요, 채소는 /vegetable;오이/  빼주시고, /sauce;레드와인식초/ 로 해주세요.\n",
      "/bread;허니오트/ /length;15센티/ /sandwich;스테이크 앤 치즈/로 해주시고요, 채소는 /vegetable;양상추/ /vegetable;올리브/  빼주시고, /sauce;랜치/ 로 해주세요.\n",
      "/bread;플랫/ /length;30센티미터/ /sandwich;터키/로 해주시고요, 채소는 /vegetable;양상추/ /vegetable;오이/  빼주시고, /sauce;스위트 어니언/ 으로 해주세요.\n",
      "/bread;파마산/ /length;15cm/ /sandwich;비엘티/로 해주시고요, 채소는 /vegetable;올리브/ /vegetable;할라피뇨/  빼주시고, /sauce;랜치/ 로 해주세요.\n",
      "/bread;위트/ /length;15센티/ /sandwich;참치/로 해주시고요, 채소는 /vegetable;토마토/ /vegetable;양상추/  빼주시고, /sauce;홀스래디쉬/ 로 해주세요.\n",
      "/bread;파마산/ /length;15cm/ /sandwich;스테이크 앤 치즈/로 해주시고요, 채소는 /vegetable;피클/ /vegetable;올리브/  빼주시고, /sauce;후추/ 로 해주세요.\n",
      "/bread;화이트/ /length;6인치/ /sandwich;페퍼로니 피자 썹/로 해주시고요, 채소는 /vegetable;피클/ /vegetable;양상추/  빼주시고, /sauce;스위트 칠리/ 로 해주세요.\n",
      "/bread;파마산오레가노/ /length;6인치/ /sandwich;로스트 치킨/로 해주시고요, 채소는 /vegetable;피클/ /vegetable;토마토/  빼주시고, /sauce;올리브 오일/ 으로 해주세요.\n",
      "/bread;허니오트/ /length;30센티/ /sandwich;터키/로 해주시고요, 채소는 /vegetable;오이/ /vegetable;양파/  빼주시고, /sauce;스위트 칠리/ 로 해주세요.\n",
      "/bread;허니오트/ /length;15센티미터/ /sandwich;써브웨이 클럽/로 해주시고요, 채소는 /vegetable;양상추/ /vegetable;토마토/  빼주시고, /sauce;머스타드/ 로 해주세요.\n",
      "/bread;플랫/ /length;30센티미터/ /sandwich;써브웨이 클럽/로 해주시고요, 채소는 /vegetable;양상추/ /vegetable;토마토/  빼주시고, /sauce;스위트 어니언/ 으로 해주세요.\n",
      "/bread;위트/ /length;30센치미터/ /sandwich;로티세리 바비큐 치킨/로 해주시고요, 채소는 /vegetable;피클/ /vegetable;양상추/  빼주시고, /sauce;머스타드/ 로 해주세요.\n",
      "/bread;위트/ /length;30센티미터/ /sandwich;페퍼 치킨 슈니첼/로 해주시고요, 채소는 /vegetable;양파/ /vegetable;토마토/  빼주시고, /sauce;후추/ 로 해주세요.\n"
     ]
    }
   ],
   "source": [
    "## {치즈} 없을 때\n",
    "# {빵} {길이}에 {샌드위치}로 해주시고, 채소는 {채소} 빼주시고,\n",
    "# 소스는 {소스}로 해주세요.\n",
    "complex_front = []\n",
    "for bread in menu['bread']:\n",
    "    bread = '/bread;'+bread+'/ '\n",
    "    for length in menu['length']:\n",
    "        length = '/length;'+length+'/ '\n",
    "        for sandwich in menu['sandwich']:\n",
    "            sandwich = '/sandwich;'+sandwich+'/'\n",
    "            predicate = '으로 해주시고요, '\n",
    "            if has_coda(sandwich):\n",
    "                predicate = '로 해주시고요, '\n",
    "            complex_front.append(bread+length+sandwich+predicate)\n",
    "     \n",
    "MAX_VEG = 2\n",
    "MAX_SAUCE = 1\n",
    "complex_back = []\n",
    "for i in range(1,MAX_VEG+1):\n",
    "    for p_veg in permutations(menu['vegetable'],i):\n",
    "        vegs = ''\n",
    "        for veg in p_veg:\n",
    "            vegs+='/vegetable;'+veg+'/ '\n",
    "        for i in range(1,MAX_SAUCE+1):\n",
    "            for p_sauce in permutations(menu['sauce'],i):\n",
    "                sauces = ''\n",
    "                for sauce in p_sauce:\n",
    "                    sauces+='/sauce;'+sauce+'/ '\n",
    "                sauce_predicate = '으로 해주세요.'\n",
    "                if has_coda(sauce):\n",
    "                    sauce_predicate = '로 해주세요.'\n",
    "                complex_back.append('채소는 '+\\\n",
    "                                   vegs+' 빼주시고, '+\\\n",
    "                                   sauces+sauce_predicate)\n",
    "          \n",
    "\n",
    "'''\n",
    "print(len(complex_front)) \n",
    "print(len(complex_back))     \n",
    "print(len(complex_back)*len(complex_front))\n",
    "for front in complex_front:\n",
    "    for back in complex_back:\n",
    "      complex_data.append(front+back)\n",
    "'''\n",
    "\n",
    "complex_data = []\n",
    "for _ in range(200):\n",
    "    complex_data.append(random.choice(complex_front)+random.choice(complex_back))\n",
    "\n",
    "print(len(complex_data))\n",
    "print(*complex_data[:25], sep='\\n')   "
   ]
  },
  {
   "cell_type": "code",
   "execution_count": 48,
   "metadata": {},
   "outputs": [
    {
     "name": "stdout",
     "output_type": "stream",
     "text": [
      "200\n"
     ]
    }
   ],
   "source": [
    "print(len(set(complex_data)))\n",
    "with open('data.csv', 'a') as f:\n",
    "    for sentence in complex_data:\n",
    "        f.write(sentence+',')"
   ]
  },
  {
   "cell_type": "code",
   "execution_count": 46,
   "metadata": {
    "id": "5439b8eaYnUS"
   },
   "outputs": [],
   "source": [
    "# {채소} 없을 때\n",
    "# {소스} 없을 때"
   ]
  }
 ],
 "metadata": {
  "accelerator": "GPU",
  "colab": {
   "collapsed_sections": [],
   "include_colab_link": true,
   "name": "data_gen.ipynb",
   "provenance": []
  },
  "kernelspec": {
   "display_name": "Python 3",
   "language": "python",
   "name": "python3"
  },
  "language_info": {
   "codemirror_mode": {
    "name": "ipython",
    "version": 3
   },
   "file_extension": ".py",
   "mimetype": "text/x-python",
   "name": "python",
   "nbconvert_exporter": "python",
   "pygments_lexer": "ipython3",
   "version": "3.8.5"
  }
 },
 "nbformat": 4,
 "nbformat_minor": 1
}
